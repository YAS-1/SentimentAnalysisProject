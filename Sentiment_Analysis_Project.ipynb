{
 "cells": [
  {
   "cell_type": "markdown",
   "id": "0dfe9d33",
   "metadata": {},
   "source": [
    "## YAWE ARTHUR SHALOM\n",
    "\n",
    "## M23B23/016\n"
   ]
  },
  {
   "cell_type": "markdown",
   "id": "7a511d9b",
   "metadata": {},
   "source": [
    "## Sentiment Analysis project"
   ]
  },
  {
   "cell_type": "code",
   "execution_count": 1,
   "id": "6ea251e4",
   "metadata": {},
   "outputs": [
    {
     "name": "stdout",
     "output_type": "stream",
     "text": [
      "Defaulting to user installation because normal site-packages is not writeable\n",
      "Requirement already satisfied: nltk in c:\\users\\hp\\appdata\\roaming\\python\\python313\\site-packages (3.9.1)\n",
      "Requirement already satisfied: click in c:\\users\\hp\\appdata\\roaming\\python\\python313\\site-packages (from nltk) (8.2.0)\n",
      "Requirement already satisfied: joblib in c:\\users\\hp\\appdata\\roaming\\python\\python313\\site-packages (from nltk) (1.5.0)\n",
      "Requirement already satisfied: regex>=2021.8.3 in c:\\users\\hp\\appdata\\roaming\\python\\python313\\site-packages (from nltk) (2024.11.6)\n",
      "Requirement already satisfied: tqdm in c:\\users\\hp\\appdata\\roaming\\python\\python313\\site-packages (from nltk) (4.67.1)\n",
      "Requirement already satisfied: colorama in c:\\users\\hp\\appdata\\roaming\\python\\python313\\site-packages (from click->nltk) (0.4.6)\n"
     ]
    }
   ],
   "source": [
    "!pip install nltk"
   ]
  },
  {
   "cell_type": "code",
   "execution_count": 2,
   "id": "0f153b4a",
   "metadata": {},
   "outputs": [
    {
     "name": "stderr",
     "output_type": "stream",
     "text": [
      "[nltk_data] Downloading package punkt to\n",
      "[nltk_data]     C:\\Users\\HP\\AppData\\Roaming\\nltk_data...\n",
      "[nltk_data]   Package punkt is already up-to-date!\n",
      "[nltk_data] Downloading package stopwords to\n",
      "[nltk_data]     C:\\Users\\HP\\AppData\\Roaming\\nltk_data...\n",
      "[nltk_data]   Package stopwords is already up-to-date!\n"
     ]
    },
    {
     "data": {
      "text/plain": [
       "True"
      ]
     },
     "execution_count": 2,
     "metadata": {},
     "output_type": "execute_result"
    }
   ],
   "source": [
    "import pandas as pd\n",
    "import numpy as np\n",
    "import matplotlib.pyplot as plt\n",
    "import seaborn as sns\n",
    "import re\n",
    "import nltk\n",
    "from nltk.corpus import stopwords\n",
    "from nltk.tokenize import word_tokenize\n",
    "from wordcloud import WordCloud\n",
    "\n",
    "nltk.download('punkt')\n",
    "nltk.download('stopwords')\n"
   ]
  },
  {
   "cell_type": "markdown",
   "id": "0382e165",
   "metadata": {},
   "source": [
    "## DATA SOURCING"
   ]
  },
  {
   "cell_type": "code",
   "execution_count": 3,
   "id": "48d4a194",
   "metadata": {},
   "outputs": [
    {
     "data": {
      "application/vnd.microsoft.datawrangler.viewer.v0+json": {
       "columns": [
        {
         "name": "index",
         "rawType": "int64",
         "type": "integer"
        },
        {
         "name": "Unnamed: 0",
         "rawType": "int64",
         "type": "integer"
        },
        {
         "name": "text",
         "rawType": "object",
         "type": "unknown"
        },
        {
         "name": "sentiment",
         "rawType": "int64",
         "type": "integer"
        }
       ],
       "ref": "4e90257e-02a2-4bda-842c-9e87970a6850",
       "rows": [
        [
         "0",
         "0",
         "text",
         "0"
        ],
        [
         "1",
         "1",
         "rising cases of covid does not alarm me rising death rate does more testing capacity means more cases are detected earlier and asymtomatics and mild cases are identified india is in scary place go check out their graphs",
         "1"
        ],
        [
         "2",
         "2",
         "please vote for chicagoindiaresolution marking india independence shared values of democracy human rights secularism",
         "0"
        ],
        [
         "3",
         "3",
         "wishing all of you eidaladha hazrat ibrahim as ki sunnah aap sab ko mubarak in most parts of india",
         "1"
        ],
        [
         "4",
         "4",
         "daily coronavirus cases in india top for first time covid",
         "1"
        ],
        [
         "5",
         "5",
         "sitting here india style watching the raindrops hit this big ass pond listening to amy winehouse finallay understand what zahree was talking about",
         "0"
        ],
        [
         "6",
         "6",
         "who out there believes that if china and india had the same natural resources available to them as australia",
         "1"
        ],
        [
         "7",
         "7",
         "very happy with the new education policy implementation in india education is the basis of any country progress kudos nep",
         "1"
        ],
        [
         "8",
         "8",
         "india development partnership does not come with conditions pm",
         "0"
        ],
        [
         "9",
         "9",
         "hon prime minister india how the new education policy will succeed this is possible only when the basic contractual teacher is mentally healthy that is why pay attention to their safe future and fair salary thank you",
         "1"
        ],
        [
         "10",
         "10",
         "look forward to the implementation of the new education policy that promises to build strong and resilient india blended learning is the future congratulations to",
         "1"
        ],
        [
         "11",
         "11",
         "love my india",
         "1"
        ],
        [
         "12",
         "12",
         "justinbieber am late to hear sorry cause am from india you rock justin am coming to hear you big fan",
         "0"
        ],
        [
         "13",
         "13",
         "gooooood morninggggg india",
         "0"
        ],
        [
         "14",
         "14",
         "the sun is rising above deoria",
         "0"
        ],
        [
         "15",
         "15",
         "if you re from india and you have dm now let trade and return your profit as",
         "0"
        ],
        [
         "16",
         "16",
         "it in india and just woke up and nothing feels better than this",
         "1"
        ],
        [
         "17",
         "17",
         "my last order of biryani from my fav india place",
         "0"
        ],
        [
         "18",
         "18",
         "want to get in my car and drive rn lol don know where but anywhere out va",
         "1"
        ],
        [
         "19",
         "19",
         "due to trade policy",
         "0"
        ],
        [
         "20",
         "20",
         "do you guys know that newegg is now in india not that have the money to spend over there but holy shit do not know how it has not been advertised yet it like paradise for pc enthusiasts really hope it contributes to bringing down indian pc part prices",
         "0"
        ],
        [
         "21",
         "21",
         "sir",
         "0"
        ],
        [
         "22",
         "22",
         "india sitars have what are known as sympathetic strings inside mas",
         "1"
        ],
        [
         "23",
         "23",
         "can muslims all over india get united against august event it time to stop rss babrimosque rammandir",
         "0"
        ],
        [
         "24",
         "24",
         "love india she really so chill lowkey durk definitely lucked up with her",
         "1"
        ],
        [
         "25",
         "25",
         "anyone notices that pakistan is actually ready for nuclear war with india it appears that the assumption in the military is that this is when rather than an if situation india on the other hand is full of hubris and has been escalating since the nuclear tests",
         "1"
        ],
        [
         "26",
         "26",
         "onthisday",
         "0"
        ],
        [
         "27",
         "27",
         "where india at",
         "0"
        ],
        [
         "28",
         "28",
         "hate when ppl play with my time get real irritable",
         "0"
        ],
        [
         "29",
         "29",
         "daily number of deaths due to confirmed sars cov within last hrs change from previous day oxford data isolate if sick clean hands mask give italy deaths china deaths usa up deaths india deaths aus deaths winter",
         "0"
        ],
        [
         "30",
         "30",
         "the punjabi state of pakistan is creating strong dissent in the pashtun community of chaman balochistan in its barbaric massacre of civilians using the colonial british india force the fc calls for another bangladesh but this time for pashtuns stateattackedchamansitin",
         "1"
        ],
        [
         "31",
         "31",
         "pompeo says global support for us policies against china on the rise",
         "0"
        ],
        [
         "32",
         "32",
         "sushantsinghrajput the bench hearing the pil led by the chief justice of india said let police do its job it has nothing to do with whether person was good person or bad person it is also about jurisdiction go to bombay hc if you have anything concrete to show",
         "1"
        ],
        [
         "33",
         "33",
         "yearsforihmagadheera out of india lo evarina trend lo participate chesthunnara",
         "0"
        ],
        [
         "34",
         "34",
         "india",
         "0"
        ],
        [
         "35",
         "35",
         "bout ready to pack my dolls and sweater",
         "1"
        ],
        [
         "36",
         "36",
         "when you go to india and you speak with sage on the street you go to him for wisdom you do not go to take him from his work to make him famous celebrity or fake king or queen expectations",
         "0"
        ],
        [
         "37",
         "37",
         "respected prime minister india how the new education policy will succeed this is possible only when the basic contractual teacher is mentally healthy that is why pay attention to their safe future and fair salary thank you",
         "1"
        ],
        [
         "38",
         "38",
         "thank you for keeping the alarm going now it is the whole india versus the mafia bollywood behind very elaborate cover up of heinous crime we are with you justiceforssr",
         "1"
        ],
        [
         "39",
         "39",
         "am having outdoor time and listening to podcasts and we re talkin about negative numbers hopefully the history of shoutout to math nerd wwx for being born in one of the best places in the world for canon era math nerdery india would ve been cool af too",
         "1"
        ],
        [
         "40",
         "40",
         "get so many recommended articles out of india from both twitter and google wtf is india paying these organizations to get promoted on their platforms",
         "0"
        ],
        [
         "41",
         "41",
         "add me on snapchat india tanzii",
         "0"
        ],
        [
         "42",
         "42",
         "hon prime minister india how the new education policy will succeed this is possible only when the basic contractual teacher is mentally healthy that is why pay attention to their safe future and fair salary thank you",
         "1"
        ],
        [
         "43",
         "43",
         "anyone wondering where radhema has been these days will some reporter in india bring us this breaking news to help with our corona drudgery",
         "0"
        ],
        [
         "44",
         "44",
         "currently in nandgaon india it with light rain shower wind direction wind speed mph pressure mbars humidity",
         "1"
        ],
        [
         "45",
         "45",
         "look idk if it this heat but not feeling folks vibes",
         "0"
        ],
        [
         "46",
         "46",
         "very strong results from facebook fb revenue bn operating income bn margin of dau bn cash billion facebook move into india both through the bn into jio and the impending rollout of payments on whatsapp will drive future growth",
         "1"
        ],
        [
         "47",
         "47",
         "had joke about users data protection in india but unfortunately it does not exist",
         "0"
        ],
        [
         "48",
         "48",
         "india is like my bestfriend wow",
         "1"
        ],
        [
         "49",
         "49",
         "back to back pan india movies track lo ki vachesaru bunny anna aa",
         "0"
        ]
       ],
       "shape": {
        "columns": 3,
        "rows": 134348
       }
      },
      "text/html": [
       "<div>\n",
       "<style scoped>\n",
       "    .dataframe tbody tr th:only-of-type {\n",
       "        vertical-align: middle;\n",
       "    }\n",
       "\n",
       "    .dataframe tbody tr th {\n",
       "        vertical-align: top;\n",
       "    }\n",
       "\n",
       "    .dataframe thead th {\n",
       "        text-align: right;\n",
       "    }\n",
       "</style>\n",
       "<table border=\"1\" class=\"dataframe\">\n",
       "  <thead>\n",
       "    <tr style=\"text-align: right;\">\n",
       "      <th></th>\n",
       "      <th>Unnamed: 0</th>\n",
       "      <th>text</th>\n",
       "      <th>sentiment</th>\n",
       "    </tr>\n",
       "  </thead>\n",
       "  <tbody>\n",
       "    <tr>\n",
       "      <th>0</th>\n",
       "      <td>0</td>\n",
       "      <td>text</td>\n",
       "      <td>0</td>\n",
       "    </tr>\n",
       "    <tr>\n",
       "      <th>1</th>\n",
       "      <td>1</td>\n",
       "      <td>rising cases of covid does not alarm me rising...</td>\n",
       "      <td>1</td>\n",
       "    </tr>\n",
       "    <tr>\n",
       "      <th>2</th>\n",
       "      <td>2</td>\n",
       "      <td>please vote for chicagoindiaresolution marking...</td>\n",
       "      <td>0</td>\n",
       "    </tr>\n",
       "    <tr>\n",
       "      <th>3</th>\n",
       "      <td>3</td>\n",
       "      <td>wishing all of you eidaladha hazrat ibrahim as...</td>\n",
       "      <td>1</td>\n",
       "    </tr>\n",
       "    <tr>\n",
       "      <th>4</th>\n",
       "      <td>4</td>\n",
       "      <td>daily coronavirus cases in india top for first...</td>\n",
       "      <td>1</td>\n",
       "    </tr>\n",
       "    <tr>\n",
       "      <th>...</th>\n",
       "      <td>...</td>\n",
       "      <td>...</td>\n",
       "      <td>...</td>\n",
       "    </tr>\n",
       "    <tr>\n",
       "      <th>134343</th>\n",
       "      <td>134343</td>\n",
       "      <td>happydiwali to india from dgisi and dgispr you...</td>\n",
       "      <td>1</td>\n",
       "    </tr>\n",
       "    <tr>\n",
       "      <th>134344</th>\n",
       "      <td>134344</td>\n",
       "      <td>india has been involved in many countries with...</td>\n",
       "      <td>1</td>\n",
       "    </tr>\n",
       "    <tr>\n",
       "      <th>134345</th>\n",
       "      <td>134345</td>\n",
       "      <td>does anybody know website which ships pre orde...</td>\n",
       "      <td>0</td>\n",
       "    </tr>\n",
       "    <tr>\n",
       "      <th>134346</th>\n",
       "      <td>134346</td>\n",
       "      <td>what hinted few weeks back in an interview wit...</td>\n",
       "      <td>0</td>\n",
       "    </tr>\n",
       "    <tr>\n",
       "      <th>134347</th>\n",
       "      <td>134347</td>\n",
       "      <td>this is just slice of what we have pakistan na...</td>\n",
       "      <td>0</td>\n",
       "    </tr>\n",
       "  </tbody>\n",
       "</table>\n",
       "<p>134348 rows × 3 columns</p>\n",
       "</div>"
      ],
      "text/plain": [
       "        Unnamed: 0                                               text  \\\n",
       "0                0                                               text   \n",
       "1                1  rising cases of covid does not alarm me rising...   \n",
       "2                2  please vote for chicagoindiaresolution marking...   \n",
       "3                3  wishing all of you eidaladha hazrat ibrahim as...   \n",
       "4                4  daily coronavirus cases in india top for first...   \n",
       "...            ...                                                ...   \n",
       "134343      134343  happydiwali to india from dgisi and dgispr you...   \n",
       "134344      134344  india has been involved in many countries with...   \n",
       "134345      134345  does anybody know website which ships pre orde...   \n",
       "134346      134346  what hinted few weeks back in an interview wit...   \n",
       "134347      134347  this is just slice of what we have pakistan na...   \n",
       "\n",
       "        sentiment  \n",
       "0               0  \n",
       "1               1  \n",
       "2               0  \n",
       "3               1  \n",
       "4               1  \n",
       "...           ...  \n",
       "134343          1  \n",
       "134344          1  \n",
       "134345          0  \n",
       "134346          0  \n",
       "134347          0  \n",
       "\n",
       "[134348 rows x 3 columns]"
      ]
     },
     "execution_count": 3,
     "metadata": {},
     "output_type": "execute_result"
    }
   ],
   "source": [
    "ds = pd.read_csv(\"Depressive_and_Non-Depressive_Tweets_Dataset.csv\")\n",
    "ds"
   ]
  },
  {
   "cell_type": "markdown",
   "id": "815c3b91",
   "metadata": {},
   "source": [
    "Used the pandas library to import and add the dataset to my project notebook"
   ]
  },
  {
   "cell_type": "code",
   "execution_count": 4,
   "id": "0b458696",
   "metadata": {},
   "outputs": [
    {
     "data": {
      "application/vnd.microsoft.datawrangler.viewer.v0+json": {
       "columns": [
        {
         "name": "index",
         "rawType": "int64",
         "type": "integer"
        },
        {
         "name": "Unnamed: 0",
         "rawType": "int64",
         "type": "integer"
        },
        {
         "name": "text",
         "rawType": "object",
         "type": "unknown"
        },
        {
         "name": "sentiment",
         "rawType": "int64",
         "type": "integer"
        }
       ],
       "ref": "0cb8a509-d0d6-43e9-8b0c-d4ff3a062e8f",
       "rows": [
        [
         "1",
         "1",
         "rising cases of covid does not alarm me rising death rate does more testing capacity means more cases are detected earlier and asymtomatics and mild cases are identified india is in scary place go check out their graphs",
         "1"
        ],
        [
         "2",
         "2",
         "please vote for chicagoindiaresolution marking india independence shared values of democracy human rights secularism",
         "0"
        ],
        [
         "3",
         "3",
         "wishing all of you eidaladha hazrat ibrahim as ki sunnah aap sab ko mubarak in most parts of india",
         "1"
        ],
        [
         "4",
         "4",
         "daily coronavirus cases in india top for first time covid",
         "1"
        ],
        [
         "5",
         "5",
         "sitting here india style watching the raindrops hit this big ass pond listening to amy winehouse finallay understand what zahree was talking about",
         "0"
        ],
        [
         "6",
         "6",
         "who out there believes that if china and india had the same natural resources available to them as australia",
         "1"
        ],
        [
         "7",
         "7",
         "very happy with the new education policy implementation in india education is the basis of any country progress kudos nep",
         "1"
        ],
        [
         "8",
         "8",
         "india development partnership does not come with conditions pm",
         "0"
        ],
        [
         "9",
         "9",
         "hon prime minister india how the new education policy will succeed this is possible only when the basic contractual teacher is mentally healthy that is why pay attention to their safe future and fair salary thank you",
         "1"
        ],
        [
         "10",
         "10",
         "look forward to the implementation of the new education policy that promises to build strong and resilient india blended learning is the future congratulations to",
         "1"
        ],
        [
         "11",
         "11",
         "love my india",
         "1"
        ],
        [
         "12",
         "12",
         "justinbieber am late to hear sorry cause am from india you rock justin am coming to hear you big fan",
         "0"
        ],
        [
         "13",
         "13",
         "gooooood morninggggg india",
         "0"
        ],
        [
         "14",
         "14",
         "the sun is rising above deoria",
         "0"
        ],
        [
         "15",
         "15",
         "if you re from india and you have dm now let trade and return your profit as",
         "0"
        ],
        [
         "16",
         "16",
         "it in india and just woke up and nothing feels better than this",
         "1"
        ],
        [
         "17",
         "17",
         "my last order of biryani from my fav india place",
         "0"
        ],
        [
         "18",
         "18",
         "want to get in my car and drive rn lol don know where but anywhere out va",
         "1"
        ],
        [
         "19",
         "19",
         "due to trade policy",
         "0"
        ],
        [
         "20",
         "20",
         "do you guys know that newegg is now in india not that have the money to spend over there but holy shit do not know how it has not been advertised yet it like paradise for pc enthusiasts really hope it contributes to bringing down indian pc part prices",
         "0"
        ],
        [
         "21",
         "21",
         "sir",
         "0"
        ],
        [
         "22",
         "22",
         "india sitars have what are known as sympathetic strings inside mas",
         "1"
        ],
        [
         "23",
         "23",
         "can muslims all over india get united against august event it time to stop rss babrimosque rammandir",
         "0"
        ],
        [
         "24",
         "24",
         "love india she really so chill lowkey durk definitely lucked up with her",
         "1"
        ],
        [
         "25",
         "25",
         "anyone notices that pakistan is actually ready for nuclear war with india it appears that the assumption in the military is that this is when rather than an if situation india on the other hand is full of hubris and has been escalating since the nuclear tests",
         "1"
        ],
        [
         "26",
         "26",
         "onthisday",
         "0"
        ],
        [
         "27",
         "27",
         "where india at",
         "0"
        ],
        [
         "28",
         "28",
         "hate when ppl play with my time get real irritable",
         "0"
        ],
        [
         "29",
         "29",
         "daily number of deaths due to confirmed sars cov within last hrs change from previous day oxford data isolate if sick clean hands mask give italy deaths china deaths usa up deaths india deaths aus deaths winter",
         "0"
        ],
        [
         "30",
         "30",
         "the punjabi state of pakistan is creating strong dissent in the pashtun community of chaman balochistan in its barbaric massacre of civilians using the colonial british india force the fc calls for another bangladesh but this time for pashtuns stateattackedchamansitin",
         "1"
        ],
        [
         "31",
         "31",
         "pompeo says global support for us policies against china on the rise",
         "0"
        ],
        [
         "32",
         "32",
         "sushantsinghrajput the bench hearing the pil led by the chief justice of india said let police do its job it has nothing to do with whether person was good person or bad person it is also about jurisdiction go to bombay hc if you have anything concrete to show",
         "1"
        ],
        [
         "33",
         "33",
         "yearsforihmagadheera out of india lo evarina trend lo participate chesthunnara",
         "0"
        ],
        [
         "34",
         "34",
         "india",
         "0"
        ],
        [
         "35",
         "35",
         "bout ready to pack my dolls and sweater",
         "1"
        ],
        [
         "36",
         "36",
         "when you go to india and you speak with sage on the street you go to him for wisdom you do not go to take him from his work to make him famous celebrity or fake king or queen expectations",
         "0"
        ],
        [
         "37",
         "37",
         "respected prime minister india how the new education policy will succeed this is possible only when the basic contractual teacher is mentally healthy that is why pay attention to their safe future and fair salary thank you",
         "1"
        ],
        [
         "38",
         "38",
         "thank you for keeping the alarm going now it is the whole india versus the mafia bollywood behind very elaborate cover up of heinous crime we are with you justiceforssr",
         "1"
        ],
        [
         "39",
         "39",
         "am having outdoor time and listening to podcasts and we re talkin about negative numbers hopefully the history of shoutout to math nerd wwx for being born in one of the best places in the world for canon era math nerdery india would ve been cool af too",
         "1"
        ],
        [
         "40",
         "40",
         "get so many recommended articles out of india from both twitter and google wtf is india paying these organizations to get promoted on their platforms",
         "0"
        ],
        [
         "41",
         "41",
         "add me on snapchat india tanzii",
         "0"
        ],
        [
         "42",
         "42",
         "hon prime minister india how the new education policy will succeed this is possible only when the basic contractual teacher is mentally healthy that is why pay attention to their safe future and fair salary thank you",
         "1"
        ],
        [
         "43",
         "43",
         "anyone wondering where radhema has been these days will some reporter in india bring us this breaking news to help with our corona drudgery",
         "0"
        ],
        [
         "44",
         "44",
         "currently in nandgaon india it with light rain shower wind direction wind speed mph pressure mbars humidity",
         "1"
        ],
        [
         "45",
         "45",
         "look idk if it this heat but not feeling folks vibes",
         "0"
        ],
        [
         "46",
         "46",
         "very strong results from facebook fb revenue bn operating income bn margin of dau bn cash billion facebook move into india both through the bn into jio and the impending rollout of payments on whatsapp will drive future growth",
         "1"
        ],
        [
         "47",
         "47",
         "had joke about users data protection in india but unfortunately it does not exist",
         "0"
        ],
        [
         "48",
         "48",
         "india is like my bestfriend wow",
         "1"
        ],
        [
         "49",
         "49",
         "back to back pan india movies track lo ki vachesaru bunny anna aa",
         "0"
        ],
        [
         "50",
         "50",
         "so like if shitty white dudes will go to africa on tourist adventures to murder endangered animals and southeast asia to have sex with underage hookers what about the ones who go on vacation to india and turkey",
         "0"
        ]
       ],
       "shape": {
        "columns": 3,
        "rows": 134347
       }
      },
      "text/html": [
       "<div>\n",
       "<style scoped>\n",
       "    .dataframe tbody tr th:only-of-type {\n",
       "        vertical-align: middle;\n",
       "    }\n",
       "\n",
       "    .dataframe tbody tr th {\n",
       "        vertical-align: top;\n",
       "    }\n",
       "\n",
       "    .dataframe thead th {\n",
       "        text-align: right;\n",
       "    }\n",
       "</style>\n",
       "<table border=\"1\" class=\"dataframe\">\n",
       "  <thead>\n",
       "    <tr style=\"text-align: right;\">\n",
       "      <th></th>\n",
       "      <th>Unnamed: 0</th>\n",
       "      <th>text</th>\n",
       "      <th>sentiment</th>\n",
       "    </tr>\n",
       "  </thead>\n",
       "  <tbody>\n",
       "    <tr>\n",
       "      <th>1</th>\n",
       "      <td>1</td>\n",
       "      <td>rising cases of covid does not alarm me rising...</td>\n",
       "      <td>1</td>\n",
       "    </tr>\n",
       "    <tr>\n",
       "      <th>2</th>\n",
       "      <td>2</td>\n",
       "      <td>please vote for chicagoindiaresolution marking...</td>\n",
       "      <td>0</td>\n",
       "    </tr>\n",
       "    <tr>\n",
       "      <th>3</th>\n",
       "      <td>3</td>\n",
       "      <td>wishing all of you eidaladha hazrat ibrahim as...</td>\n",
       "      <td>1</td>\n",
       "    </tr>\n",
       "    <tr>\n",
       "      <th>4</th>\n",
       "      <td>4</td>\n",
       "      <td>daily coronavirus cases in india top for first...</td>\n",
       "      <td>1</td>\n",
       "    </tr>\n",
       "    <tr>\n",
       "      <th>5</th>\n",
       "      <td>5</td>\n",
       "      <td>sitting here india style watching the raindrop...</td>\n",
       "      <td>0</td>\n",
       "    </tr>\n",
       "    <tr>\n",
       "      <th>...</th>\n",
       "      <td>...</td>\n",
       "      <td>...</td>\n",
       "      <td>...</td>\n",
       "    </tr>\n",
       "    <tr>\n",
       "      <th>134343</th>\n",
       "      <td>134343</td>\n",
       "      <td>happydiwali to india from dgisi and dgispr you...</td>\n",
       "      <td>1</td>\n",
       "    </tr>\n",
       "    <tr>\n",
       "      <th>134344</th>\n",
       "      <td>134344</td>\n",
       "      <td>india has been involved in many countries with...</td>\n",
       "      <td>1</td>\n",
       "    </tr>\n",
       "    <tr>\n",
       "      <th>134345</th>\n",
       "      <td>134345</td>\n",
       "      <td>does anybody know website which ships pre orde...</td>\n",
       "      <td>0</td>\n",
       "    </tr>\n",
       "    <tr>\n",
       "      <th>134346</th>\n",
       "      <td>134346</td>\n",
       "      <td>what hinted few weeks back in an interview wit...</td>\n",
       "      <td>0</td>\n",
       "    </tr>\n",
       "    <tr>\n",
       "      <th>134347</th>\n",
       "      <td>134347</td>\n",
       "      <td>this is just slice of what we have pakistan na...</td>\n",
       "      <td>0</td>\n",
       "    </tr>\n",
       "  </tbody>\n",
       "</table>\n",
       "<p>134347 rows × 3 columns</p>\n",
       "</div>"
      ],
      "text/plain": [
       "        Unnamed: 0                                               text  \\\n",
       "1                1  rising cases of covid does not alarm me rising...   \n",
       "2                2  please vote for chicagoindiaresolution marking...   \n",
       "3                3  wishing all of you eidaladha hazrat ibrahim as...   \n",
       "4                4  daily coronavirus cases in india top for first...   \n",
       "5                5  sitting here india style watching the raindrop...   \n",
       "...            ...                                                ...   \n",
       "134343      134343  happydiwali to india from dgisi and dgispr you...   \n",
       "134344      134344  india has been involved in many countries with...   \n",
       "134345      134345  does anybody know website which ships pre orde...   \n",
       "134346      134346  what hinted few weeks back in an interview wit...   \n",
       "134347      134347  this is just slice of what we have pakistan na...   \n",
       "\n",
       "        sentiment  \n",
       "1               1  \n",
       "2               0  \n",
       "3               1  \n",
       "4               1  \n",
       "5               0  \n",
       "...           ...  \n",
       "134343          1  \n",
       "134344          1  \n",
       "134345          0  \n",
       "134346          0  \n",
       "134347          0  \n",
       "\n",
       "[134347 rows x 3 columns]"
      ]
     },
     "execution_count": 4,
     "metadata": {},
     "output_type": "execute_result"
    }
   ],
   "source": [
    "# drop first row \n",
    "ds = ds.iloc[1:]\n",
    "ds"
   ]
  },
  {
   "cell_type": "code",
   "execution_count": 5,
   "id": "49413bc4",
   "metadata": {},
   "outputs": [
    {
     "name": "stdout",
     "output_type": "stream",
     "text": [
      "The Shape Of Data Is : (134347, 3)\n"
     ]
    }
   ],
   "source": [
    "#The Shape Of Data\n",
    "print(f'The Shape Of Data Is : {ds.shape}')"
   ]
  },
  {
   "cell_type": "markdown",
   "id": "7b7a7bb0",
   "metadata": {},
   "source": [
    "Dataset has 134347 rows and 3 clomuns"
   ]
  },
  {
   "cell_type": "markdown",
   "id": "075e50a0",
   "metadata": {},
   "source": [
    "The dataset was got from Opendatabay. This dataset comprises depressive and non-depressive tweets collected between December 2019 and December 2020. Its primary purpose is to provide a valuable resource for sentiment analysis and text classification, particularly in the domain of mental health and wellness. the text data was obtained from social media posts (tweets), focusing on the mental health domain — specifically distinguishing between depressive and non-depressive language.\n",
    "\n",
    "The dataset comprises of 3 columns, these are the ID, the text(the tweet), and the sentiment score(1 or 0).\n",
    "\n",
    "Where the 1 = non-depressive and 0 = depressive\n",
    "\n",
    "Metadata Included:\n",
    "\n",
    "- Tweet text content\n",
    "\n",
    "- Sentiment or classification label (Depressive / Non-Depressive)\n",
    "\n",
    "- Keywords and hashtags relevant to mental health (e.g., “depression”, “sad”, “lonely”, “happy”)\n",
    "\n",
    "**Purpose of the Data:**\n",
    "To analyze sentiment patterns in tweets related to mental health, which can support understanding emotional trends, early detection of depressive tendencies, and improving mental health interventions.\n",
    "\n",
    "**Acquiring the Dataset**: Used the pandas library to import the dataset and add it to project notebook\n"
   ]
  },
  {
   "cell_type": "code",
   "execution_count": 6,
   "id": "4d62e547",
   "metadata": {},
   "outputs": [
    {
     "data": {
      "application/vnd.microsoft.datawrangler.viewer.v0+json": {
       "columns": [
        {
         "name": "index",
         "rawType": "object",
         "type": "string"
        },
        {
         "name": "0",
         "rawType": "int64",
         "type": "integer"
        }
       ],
       "ref": "3067ac55-7937-403f-bf1e-7883aa843bf8",
       "rows": [
        [
         "Unnamed: 0",
         "0"
        ],
        [
         "text",
         "18"
        ],
        [
         "sentiment",
         "0"
        ]
       ],
       "shape": {
        "columns": 1,
        "rows": 3
       }
      },
      "text/plain": [
       "Unnamed: 0     0\n",
       "text          18\n",
       "sentiment      0\n",
       "dtype: int64"
      ]
     },
     "execution_count": 6,
     "metadata": {},
     "output_type": "execute_result"
    }
   ],
   "source": [
    "#Check for missing data\n",
    "ds.isnull().sum()"
   ]
  },
  {
   "cell_type": "code",
   "execution_count": 7,
   "id": "a67b15e1",
   "metadata": {},
   "outputs": [
    {
     "data": {
      "text/plain": [
       "np.int64(0)"
      ]
     },
     "execution_count": 7,
     "metadata": {},
     "output_type": "execute_result"
    }
   ],
   "source": [
    "#Check for duplicates\n",
    "ds.duplicated().sum()"
   ]
  },
  {
   "cell_type": "code",
   "execution_count": 8,
   "id": "dd206485",
   "metadata": {},
   "outputs": [
    {
     "name": "stderr",
     "output_type": "stream",
     "text": [
      "C:\\Users\\HP\\AppData\\Local\\Temp\\ipykernel_24512\\1070090436.py:2: SettingWithCopyWarning: \n",
      "A value is trying to be set on a copy of a slice from a DataFrame\n",
      "\n",
      "See the caveats in the documentation: https://pandas.pydata.org/pandas-docs/stable/user_guide/indexing.html#returning-a-view-versus-a-copy\n",
      "  ds.dropna(inplace=True)\n"
     ]
    },
    {
     "data": {
      "application/vnd.microsoft.datawrangler.viewer.v0+json": {
       "columns": [
        {
         "name": "index",
         "rawType": "object",
         "type": "string"
        },
        {
         "name": "0",
         "rawType": "int64",
         "type": "integer"
        }
       ],
       "ref": "26fba925-5070-4730-aaee-625ab925ea5a",
       "rows": [
        [
         "Unnamed: 0",
         "0"
        ],
        [
         "text",
         "0"
        ],
        [
         "sentiment",
         "0"
        ]
       ],
       "shape": {
        "columns": 1,
        "rows": 3
       }
      },
      "text/plain": [
       "Unnamed: 0    0\n",
       "text          0\n",
       "sentiment     0\n",
       "dtype: int64"
      ]
     },
     "execution_count": 8,
     "metadata": {},
     "output_type": "execute_result"
    }
   ],
   "source": [
    "# dropping null values\n",
    "ds.dropna(inplace=True)\n",
    "ds.isnull().sum()"
   ]
  },
  {
   "cell_type": "markdown",
   "id": "eba936d0",
   "metadata": {},
   "source": [
    "## Reseacrh Questions and Objectives"
   ]
  },
  {
   "cell_type": "markdown",
   "id": "b48558f3",
   "metadata": {},
   "source": [
    "*Research Questions*\n",
    "\n",
    "1. What are the most common keywords and linguistic patterns in depressive vs. non-depressive tweets?\n",
    "\n",
    "2. What is the distribution of depressive and non-depressive posts in the dataset?\n",
    "\n",
    "3. How accurately can an automated sentiment analysis model classify depressive tweets?\n",
    "\n",
    "4. Can machine learning or NLP techniques help in identifying early signals of depressive language in social media posts?\n",
    "\n",
    "5. How well does the Logistic Regression model perform in predicting tweet sentiment?"
   ]
  },
  {
   "cell_type": "markdown",
   "id": "cf7f2334",
   "metadata": {},
   "source": [
    "*Objectives*\n",
    "\n",
    "1. To preprocess and clean raw social media text data.\n",
    "\n",
    "2. To explore patterns, keywords, and frequency of depressive vs. non-depressive language.\n",
    "\n",
    "3. To apply sentiment analysis or text classification techniques to categorize tweets.\n",
    "\n",
    "4. To evaluate model performance using metrics like accuracy, precision, and recall.\n",
    "\n",
    "5. To provide insights that can support mental health awareness and intervention strategies."
   ]
  },
  {
   "cell_type": "markdown",
   "id": "247e3ae6",
   "metadata": {},
   "source": [
    "## EDA"
   ]
  },
  {
   "cell_type": "code",
   "execution_count": 9,
   "id": "a5af6e19",
   "metadata": {},
   "outputs": [
    {
     "data": {
      "text/plain": [
       "np.int64(0)"
      ]
     },
     "execution_count": 9,
     "metadata": {},
     "output_type": "execute_result"
    }
   ],
   "source": [
    "#Check for duplicates\n",
    "ds.duplicated().sum()"
   ]
  },
  {
   "cell_type": "markdown",
   "id": "9ceb7671",
   "metadata": {},
   "source": [
    "The dataset has no duplicates"
   ]
  },
  {
   "cell_type": "code",
   "execution_count": 10,
   "id": "a0f82bbc",
   "metadata": {},
   "outputs": [
    {
     "name": "stderr",
     "output_type": "stream",
     "text": [
      "C:\\Users\\HP\\AppData\\Local\\Temp\\ipykernel_24512\\3000128140.py:1: SettingWithCopyWarning: \n",
      "A value is trying to be set on a copy of a slice from a DataFrame\n",
      "\n",
      "See the caveats in the documentation: https://pandas.pydata.org/pandas-docs/stable/user_guide/indexing.html#returning-a-view-versus-a-copy\n",
      "  ds.dropna(inplace=True)\n"
     ]
    },
    {
     "data": {
      "application/vnd.microsoft.datawrangler.viewer.v0+json": {
       "columns": [
        {
         "name": "index",
         "rawType": "object",
         "type": "string"
        },
        {
         "name": "0",
         "rawType": "int64",
         "type": "integer"
        }
       ],
       "ref": "85e71f2c-5f4f-417c-9d51-4981cf78658b",
       "rows": [
        [
         "Unnamed: 0",
         "0"
        ],
        [
         "text",
         "0"
        ],
        [
         "sentiment",
         "0"
        ]
       ],
       "shape": {
        "columns": 1,
        "rows": 3
       }
      },
      "text/plain": [
       "Unnamed: 0    0\n",
       "text          0\n",
       "sentiment     0\n",
       "dtype: int64"
      ]
     },
     "execution_count": 10,
     "metadata": {},
     "output_type": "execute_result"
    }
   ],
   "source": [
    "ds.dropna(inplace=True)\n",
    "ds.isnull().sum()"
   ]
  },
  {
   "cell_type": "markdown",
   "id": "09591c52",
   "metadata": {},
   "source": [
    "Drop any missing values that were within the dataset"
   ]
  },
  {
   "cell_type": "code",
   "execution_count": 11,
   "id": "096241a2",
   "metadata": {},
   "outputs": [
    {
     "data": {
      "image/png": "[encoded data removed]",
      "text/plain": [
       "<Figure size 640x480 with 1 Axes>"
      ]
     },
     "metadata": {},
     "output_type": "display_data"
    }
   ],
   "source": [
    "sns.countplot(x='sentiment', data=ds)\n",
    "plt.title('Distribution of Depressive vs Non-Depressive Tweets')\n",
    "plt.show()\n"
   ]
  },
  {
   "cell_type": "markdown",
   "id": "12fbc279",
   "metadata": {},
   "source": [
    "This answers the research question about how depressive vs. non-depressive tweets are distributed.\n",
    "\n",
    "The visualization shows the dataset has more non-depression tweets counts than depression tweets."
   ]
  },
  {
   "cell_type": "code",
   "execution_count": 12,
   "id": "a63fc119",
   "metadata": {},
   "outputs": [
    {
     "name": "stderr",
     "output_type": "stream",
     "text": [
      "C:\\Users\\HP\\AppData\\Local\\Temp\\ipykernel_24512\\3251793617.py:14: SettingWithCopyWarning: \n",
      "A value is trying to be set on a copy of a slice from a DataFrame.\n",
      "Try using .loc[row_indexer,col_indexer] = value instead\n",
      "\n",
      "See the caveats in the documentation: https://pandas.pydata.org/pandas-docs/stable/user_guide/indexing.html#returning-a-view-versus-a-copy\n",
      "  ds['clean_text'] = ds['text'].apply(clean_text)\n"
     ]
    }
   ],
   "source": [
    "# Cleaning the text data\n",
    "\n",
    "stop_words = set(stopwords.words('english'))\n",
    "\n",
    "def clean_text(text):\n",
    "    text = text.lower()\n",
    "    text = re.sub(r\"http\\S+|www\\S+|https\\S+\", '', text)  # Remove URLs\n",
    "    text = re.sub(r'\\@w+|\\#','', text)  # Remove mentions and hashtags\n",
    "    text = re.sub(r'[^A-Za-z\\s]', '', text)  # Remove punctuation & numbers\n",
    "    tokens = word_tokenize(text)\n",
    "    tokens = [word for word in tokens if word not in stop_words]\n",
    "    return \" \".join(tokens)\n",
    "\n",
    "ds['clean_text'] = ds['text'].apply(clean_text)\n"
   ]
  },
  {
   "cell_type": "markdown",
   "id": "75acefc4",
   "metadata": {},
   "source": [
    "The text cleaning involved\n",
    "\n",
    "- Lowercasing text\n",
    "\n",
    "- Removing URLs, punctuation, mentions (@), hashtags, and special characters\n",
    "\n",
    "- Removing stopwords\n",
    "\n",
    "- Tokenizing words"
   ]
  },
  {
   "cell_type": "code",
   "execution_count": 13,
   "id": "ed2b8ab1",
   "metadata": {},
   "outputs": [
    {
     "name": "stdout",
     "output_type": "stream",
     "text": [
      "[('india', 12164), ('like', 6918), ('sad', 6691), ('broken', 6594), ('people', 6443), ('anger', 5159), ('awful', 4836), ('health', 4502), ('get', 4427), ('one', 4356), ('blame', 3917), ('mental', 3910), ('alone', 3908), ('death', 3892), ('difficult', 3695), ('time', 3419), ('know', 3307), ('feel', 3235), ('want', 3030), ('disease', 2931)]\n",
      "[('india', 10954), ('like', 6981), ('people', 6498), ('love', 5314), ('nice', 5252), ('one', 4825), ('good', 4679), ('get', 4497), ('time', 4114), ('day', 4092), ('lovely', 3919), ('new', 3764), ('really', 3656), ('health', 3594), ('know', 3430), ('much', 3226), ('want', 3144), ('would', 2988), ('happy', 2953), ('amazing', 2907)]\n"
     ]
    }
   ],
   "source": [
    "#Word Frequency Analysis\n",
    "\n",
    "from collections import Counter\n",
    "\n",
    "non_depressive_words = ' '.join(ds[ds['sentiment']==1]['clean_text']).split()\n",
    "depressive_words = ' '.join(ds[ds['sentiment']==0]['clean_text']).split()\n",
    "\n",
    "print(Counter(depressive_words).most_common(20))\n",
    "print(Counter(non_depressive_words).most_common(20))\n"
   ]
  },
  {
   "cell_type": "markdown",
   "id": "4f03eba7",
   "metadata": {},
   "source": [
    "From this analysis we get the top 20 common drepression words and top 20 common non_dpression words\n",
    "\n",
    "This out put can be used to create flags that can be used to identify possible cases of depression."
   ]
  },
  {
   "cell_type": "code",
   "execution_count": 14,
   "id": "016f90f3",
   "metadata": {},
   "outputs": [
    {
     "data": {
      "image/png": "[encoded data removed]",
      "text/plain": [
       "<Figure size 640x480 with 1 Axes>"
      ]
     },
     "metadata": {},
     "output_type": "display_data"
    },
    {
     "data": {
      "image/png": "[encoded data removed]",
      "text/plain": [
       "<Figure size 640x480 with 1 Axes>"
      ]
     },
     "metadata": {},
     "output_type": "display_data"
    }
   ],
   "source": [
    "depressive_wc = WordCloud(width=800, height=400, background_color='white').generate(' '.join(depressive_words))\n",
    "plt.imshow(depressive_wc, interpolation='bilinear')\n",
    "plt.axis('off')\n",
    "plt.title('WordCloud - Depressive Tweets')\n",
    "plt.show()\n",
    "\n",
    "non_wc = WordCloud(width=800, height=400, background_color='white').generate(' '.join(non_depressive_words))\n",
    "plt.imshow(non_wc, interpolation='bilinear')\n",
    "plt.axis('off')\n",
    "plt.title('WordCloud - Non-Depressive Tweets')\n",
    "plt.show()\n"
   ]
  },
  {
   "cell_type": "markdown",
   "id": "7fd0fbdb",
   "metadata": {},
   "source": [
    "This addresses the research question about common keywords and patterns in depressive vs. non-depressive tweets."
   ]
  },
  {
   "cell_type": "code",
   "execution_count": 15,
   "id": "90b862a7",
   "metadata": {},
   "outputs": [
    {
     "name": "stderr",
     "output_type": "stream",
     "text": [
      "C:\\Users\\HP\\AppData\\Local\\Temp\\ipykernel_24512\\3420116876.py:1: SettingWithCopyWarning: \n",
      "A value is trying to be set on a copy of a slice from a DataFrame.\n",
      "Try using .loc[row_indexer,col_indexer] = value instead\n",
      "\n",
      "See the caveats in the documentation: https://pandas.pydata.org/pandas-docs/stable/user_guide/indexing.html#returning-a-view-versus-a-copy\n",
      "  ds['text_length'] = ds['clean_text'].apply(lambda x: len(x.split()))\n"
     ]
    },
    {
     "data": {
      "image/png": "[encoded data removed]",
      "text/plain": [
       "<Figure size 640x480 with 1 Axes>"
      ]
     },
     "metadata": {},
     "output_type": "display_data"
    }
   ],
   "source": [
    "ds['text_length'] = ds['clean_text'].apply(lambda x: len(x.split()))\n",
    "sns.histplot(data=ds, x='text_length', hue='sentiment', kde=True)\n",
    "plt.title('Text Length Distribution')\n",
    "plt.show()\n"
   ]
  },
  {
   "cell_type": "markdown",
   "id": "84e36147",
   "metadata": {},
   "source": [
    "This helps analyze whether depressive tweets are typically longer or shorter than non-depressive ones.\n",
    "\n",
    "From the visualization we can obsever that the depressive tweets tend to be longer and have a higher word count\n"
   ]
  },
  {
   "cell_type": "code",
   "execution_count": 16,
   "id": "98292059",
   "metadata": {},
   "outputs": [
    {
     "name": "stdout",
     "output_type": "stream",
     "text": [
      "\n",
      "Sample of mapped sentiments:\n",
      "   sentiment sentiment_label  \\\n",
      "1          1        Negative   \n",
      "2          0        Positive   \n",
      "3          1        Negative   \n",
      "4          1        Negative   \n",
      "5          0        Positive   \n",
      "\n",
      "                                          clean_text  \n",
      "1  rising cases covid alarm rising death rate tes...  \n",
      "2  please vote chicagoindiaresolution marking ind...  \n",
      "3  wishing eidaladha hazrat ibrahim ki sunnah aap...  \n",
      "4  daily coronavirus cases india top first time c...  \n",
      "5  sitting india style watching raindrops hit big...  \n"
     ]
    },
    {
     "name": "stderr",
     "output_type": "stream",
     "text": [
      "C:\\Users\\HP\\AppData\\Local\\Temp\\ipykernel_24512\\17419215.py:4: SettingWithCopyWarning: \n",
      "A value is trying to be set on a copy of a slice from a DataFrame.\n",
      "Try using .loc[row_indexer,col_indexer] = value instead\n",
      "\n",
      "See the caveats in the documentation: https://pandas.pydata.org/pandas-docs/stable/user_guide/indexing.html#returning-a-view-versus-a-copy\n",
      "  ds['sentiment_label'] = ds['sentiment'].map(sentiment_mapping)\n"
     ]
    }
   ],
   "source": [
    "#Mapping the sentiments to positive and negative\n",
    "\n",
    "sentiment_mapping = {0: \"Positive\", 1: \"Negative\"}\n",
    "ds['sentiment_label'] = ds['sentiment'].map(sentiment_mapping)\n",
    "\n",
    "print(\"\\nSample of mapped sentiments:\")\n",
    "print(ds[['sentiment', 'sentiment_label', 'clean_text']].head())"
   ]
  },
  {
   "cell_type": "code",
   "execution_count": 17,
   "id": "09999f7c",
   "metadata": {},
   "outputs": [
    {
     "data": {
      "application/vnd.microsoft.datawrangler.viewer.v0+json": {
       "columns": [
        {
         "name": "index",
         "rawType": "int64",
         "type": "integer"
        },
        {
         "name": "sentiment",
         "rawType": "int64",
         "type": "integer"
        },
        {
         "name": "clean_text",
         "rawType": "object",
         "type": "string"
        },
        {
         "name": "text_length",
         "rawType": "int64",
         "type": "integer"
        },
        {
         "name": "sentiment_label",
         "rawType": "object",
         "type": "string"
        }
       ],
       "ref": "5de303a7-0f85-44f6-81e3-fb6ea1422e1c",
       "rows": [
        [
         "1",
         "1",
         "rising cases covid alarm rising death rate testing capacity means cases detected earlier asymtomatics mild cases identified india scary place go check graphs",
         "23",
         "Negative"
        ],
        [
         "2",
         "0",
         "please vote chicagoindiaresolution marking india independence shared values democracy human rights secularism",
         "12",
         "Positive"
        ],
        [
         "3",
         "1",
         "wishing eidaladha hazrat ibrahim ki sunnah aap sab ko mubarak parts india",
         "12",
         "Negative"
        ],
        [
         "4",
         "1",
         "daily coronavirus cases india top first time covid",
         "8",
         "Negative"
        ],
        [
         "5",
         "0",
         "sitting india style watching raindrops hit big ass pond listening amy winehouse finallay understand zahree talking",
         "16",
         "Positive"
        ],
        [
         "6",
         "1",
         "believes china india natural resources available australia",
         "7",
         "Negative"
        ],
        [
         "7",
         "1",
         "happy new education policy implementation india education basis country progress kudos nep",
         "12",
         "Negative"
        ],
        [
         "8",
         "0",
         "india development partnership come conditions pm",
         "6",
         "Positive"
        ],
        [
         "9",
         "1",
         "hon prime minister india new education policy succeed possible basic contractual teacher mentally healthy pay attention safe future fair salary thank",
         "21",
         "Negative"
        ],
        [
         "10",
         "1",
         "look forward implementation new education policy promises build strong resilient india blended learning future congratulations",
         "15",
         "Negative"
        ],
        [
         "11",
         "1",
         "love india",
         "2",
         "Negative"
        ],
        [
         "12",
         "0",
         "justinbieber late hear sorry cause india rock justin coming hear big fan",
         "12",
         "Positive"
        ],
        [
         "13",
         "0",
         "gooooood morninggggg india",
         "3",
         "Positive"
        ],
        [
         "14",
         "0",
         "sun rising deoria",
         "3",
         "Positive"
        ],
        [
         "15",
         "0",
         "india dm let trade return profit",
         "6",
         "Positive"
        ],
        [
         "16",
         "1",
         "india woke nothing feels better",
         "5",
         "Negative"
        ],
        [
         "17",
         "0",
         "last order biryani fav india place",
         "6",
         "Positive"
        ],
        [
         "18",
         "1",
         "want get car drive rn lol know anywhere va",
         "9",
         "Negative"
        ],
        [
         "19",
         "0",
         "due trade policy",
         "3",
         "Positive"
        ],
        [
         "20",
         "0",
         "guys know newegg india money spend holy shit know advertised yet like paradise pc enthusiasts really hope contributes bringing indian pc part prices",
         "23",
         "Positive"
        ],
        [
         "21",
         "0",
         "sir",
         "1",
         "Positive"
        ],
        [
         "22",
         "1",
         "india sitars known sympathetic strings inside mas",
         "7",
         "Negative"
        ],
        [
         "23",
         "0",
         "muslims india get united august event time stop rss babrimosque rammandir",
         "11",
         "Positive"
        ],
        [
         "24",
         "1",
         "love india really chill lowkey durk definitely lucked",
         "8",
         "Negative"
        ],
        [
         "25",
         "1",
         "anyone notices pakistan actually ready nuclear war india appears assumption military rather situation india hand full hubris escalating since nuclear tests",
         "21",
         "Negative"
        ],
        [
         "26",
         "0",
         "onthisday",
         "1",
         "Positive"
        ],
        [
         "27",
         "0",
         "india",
         "1",
         "Positive"
        ],
        [
         "28",
         "0",
         "hate ppl play time get real irritable",
         "7",
         "Positive"
        ],
        [
         "29",
         "0",
         "daily number deaths due confirmed sars cov within last hrs change previous day oxford data isolate sick clean hands mask give italy deaths china deaths usa deaths india deaths aus deaths winter",
         "32",
         "Positive"
        ],
        [
         "30",
         "1",
         "punjabi state pakistan creating strong dissent pashtun community chaman balochistan barbaric massacre civilians using colonial british india force fc calls another bangladesh time pashtuns stateattackedchamansitin",
         "25",
         "Negative"
        ],
        [
         "31",
         "0",
         "pompeo says global support us policies china rise",
         "8",
         "Positive"
        ],
        [
         "32",
         "1",
         "sushantsinghrajput bench hearing pil led chief justice india said let police job nothing whether person good person bad person also jurisdiction go bombay hc anything concrete show",
         "27",
         "Negative"
        ],
        [
         "33",
         "0",
         "yearsforihmagadheera india lo evarina trend lo participate chesthunnara",
         "8",
         "Positive"
        ],
        [
         "34",
         "0",
         "india",
         "1",
         "Positive"
        ],
        [
         "35",
         "1",
         "bout ready pack dolls sweater",
         "5",
         "Negative"
        ],
        [
         "36",
         "0",
         "go india speak sage street go wisdom go take work make famous celebrity fake king queen expectations",
         "17",
         "Positive"
        ],
        [
         "37",
         "1",
         "respected prime minister india new education policy succeed possible basic contractual teacher mentally healthy pay attention safe future fair salary thank",
         "21",
         "Negative"
        ],
        [
         "38",
         "1",
         "thank keeping alarm going whole india versus mafia bollywood behind elaborate cover heinous crime justiceforssr",
         "15",
         "Negative"
        ],
        [
         "39",
         "1",
         "outdoor time listening podcasts talkin negative numbers hopefully history shoutout math nerd wwx born one best places world canon era math nerdery india would cool af",
         "26",
         "Negative"
        ],
        [
         "40",
         "0",
         "get many recommended articles india twitter google wtf india paying organizations get promoted platforms",
         "14",
         "Positive"
        ],
        [
         "41",
         "0",
         "add snapchat india tanzii",
         "4",
         "Positive"
        ],
        [
         "42",
         "1",
         "hon prime minister india new education policy succeed possible basic contractual teacher mentally healthy pay attention safe future fair salary thank",
         "21",
         "Negative"
        ],
        [
         "43",
         "0",
         "anyone wondering radhema days reporter india bring us breaking news help corona drudgery",
         "13",
         "Positive"
        ],
        [
         "44",
         "1",
         "currently nandgaon india light rain shower wind direction wind speed mph pressure mbars humidity",
         "14",
         "Negative"
        ],
        [
         "45",
         "0",
         "look idk heat feeling folks vibes",
         "6",
         "Positive"
        ],
        [
         "46",
         "1",
         "strong results facebook fb revenue bn operating income bn margin dau bn cash billion facebook move india bn jio impending rollout payments whatsapp drive future growth",
         "26",
         "Negative"
        ],
        [
         "47",
         "0",
         "joke users data protection india unfortunately exist",
         "7",
         "Positive"
        ],
        [
         "48",
         "1",
         "india like bestfriend wow",
         "4",
         "Negative"
        ],
        [
         "49",
         "0",
         "back back pan india movies track lo ki vachesaru bunny anna aa",
         "12",
         "Positive"
        ],
        [
         "50",
         "0",
         "like shitty white dudes go africa tourist adventures murder endangered animals southeast asia sex underage hookers ones go vacation india turkey",
         "21",
         "Positive"
        ]
       ],
       "shape": {
        "columns": 4,
        "rows": 134329
       }
      },
      "text/html": [
       "<div>\n",
       "<style scoped>\n",
       "    .dataframe tbody tr th:only-of-type {\n",
       "        vertical-align: middle;\n",
       "    }\n",
       "\n",
       "    .dataframe tbody tr th {\n",
       "        vertical-align: top;\n",
       "    }\n",
       "\n",
       "    .dataframe thead th {\n",
       "        text-align: right;\n",
       "    }\n",
       "</style>\n",
       "<table border=\"1\" class=\"dataframe\">\n",
       "  <thead>\n",
       "    <tr style=\"text-align: right;\">\n",
       "      <th></th>\n",
       "      <th>sentiment</th>\n",
       "      <th>clean_text</th>\n",
       "      <th>text_length</th>\n",
       "      <th>sentiment_label</th>\n",
       "    </tr>\n",
       "  </thead>\n",
       "  <tbody>\n",
       "    <tr>\n",
       "      <th>1</th>\n",
       "      <td>1</td>\n",
       "      <td>rising cases covid alarm rising death rate tes...</td>\n",
       "      <td>23</td>\n",
       "      <td>Negative</td>\n",
       "    </tr>\n",
       "    <tr>\n",
       "      <th>2</th>\n",
       "      <td>0</td>\n",
       "      <td>please vote chicagoindiaresolution marking ind...</td>\n",
       "      <td>12</td>\n",
       "      <td>Positive</td>\n",
       "    </tr>\n",
       "    <tr>\n",
       "      <th>3</th>\n",
       "      <td>1</td>\n",
       "      <td>wishing eidaladha hazrat ibrahim ki sunnah aap...</td>\n",
       "      <td>12</td>\n",
       "      <td>Negative</td>\n",
       "    </tr>\n",
       "    <tr>\n",
       "      <th>4</th>\n",
       "      <td>1</td>\n",
       "      <td>daily coronavirus cases india top first time c...</td>\n",
       "      <td>8</td>\n",
       "      <td>Negative</td>\n",
       "    </tr>\n",
       "    <tr>\n",
       "      <th>5</th>\n",
       "      <td>0</td>\n",
       "      <td>sitting india style watching raindrops hit big...</td>\n",
       "      <td>16</td>\n",
       "      <td>Positive</td>\n",
       "    </tr>\n",
       "    <tr>\n",
       "      <th>...</th>\n",
       "      <td>...</td>\n",
       "      <td>...</td>\n",
       "      <td>...</td>\n",
       "      <td>...</td>\n",
       "    </tr>\n",
       "    <tr>\n",
       "      <th>134343</th>\n",
       "      <td>1</td>\n",
       "      <td>happydiwali india dgisi dgispr real face expos...</td>\n",
       "      <td>10</td>\n",
       "      <td>Negative</td>\n",
       "    </tr>\n",
       "    <tr>\n",
       "      <th>134344</th>\n",
       "      <td>1</td>\n",
       "      <td>india involved many countries terrorism cells ...</td>\n",
       "      <td>25</td>\n",
       "      <td>Negative</td>\n",
       "    </tr>\n",
       "    <tr>\n",
       "      <th>134345</th>\n",
       "      <td>0</td>\n",
       "      <td>anybody know website ships pre order bts seaso...</td>\n",
       "      <td>10</td>\n",
       "      <td>Positive</td>\n",
       "    </tr>\n",
       "    <tr>\n",
       "      <th>134346</th>\n",
       "      <td>0</td>\n",
       "      <td>hinted weeks back interview today presented ev...</td>\n",
       "      <td>13</td>\n",
       "      <td>Positive</td>\n",
       "    </tr>\n",
       "    <tr>\n",
       "      <th>134347</th>\n",
       "      <td>0</td>\n",
       "      <td>slice pakistan national security advisor world...</td>\n",
       "      <td>21</td>\n",
       "      <td>Positive</td>\n",
       "    </tr>\n",
       "  </tbody>\n",
       "</table>\n",
       "<p>134329 rows × 4 columns</p>\n",
       "</div>"
      ],
      "text/plain": [
       "        sentiment                                         clean_text  \\\n",
       "1               1  rising cases covid alarm rising death rate tes...   \n",
       "2               0  please vote chicagoindiaresolution marking ind...   \n",
       "3               1  wishing eidaladha hazrat ibrahim ki sunnah aap...   \n",
       "4               1  daily coronavirus cases india top first time c...   \n",
       "5               0  sitting india style watching raindrops hit big...   \n",
       "...           ...                                                ...   \n",
       "134343          1  happydiwali india dgisi dgispr real face expos...   \n",
       "134344          1  india involved many countries terrorism cells ...   \n",
       "134345          0  anybody know website ships pre order bts seaso...   \n",
       "134346          0  hinted weeks back interview today presented ev...   \n",
       "134347          0  slice pakistan national security advisor world...   \n",
       "\n",
       "        text_length sentiment_label  \n",
       "1                23        Negative  \n",
       "2                12        Positive  \n",
       "3                12        Negative  \n",
       "4                 8        Negative  \n",
       "5                16        Positive  \n",
       "...             ...             ...  \n",
       "134343           10        Negative  \n",
       "134344           25        Negative  \n",
       "134345           10        Positive  \n",
       "134346           13        Positive  \n",
       "134347           21        Positive  \n",
       "\n",
       "[134329 rows x 4 columns]"
      ]
     },
     "execution_count": 17,
     "metadata": {},
     "output_type": "execute_result"
    }
   ],
   "source": [
    "ds_clean = ds.drop(['Unnamed: 0', 'text'], axis=1)\n",
    "ds_clean"
   ]
  },
  {
   "cell_type": "code",
   "execution_count": 18,
   "id": "73d000f7",
   "metadata": {},
   "outputs": [],
   "source": [
    "# exporting the ds_clean file\n",
    "ds_clean.to_csv('ds_clean.csv', index=False)"
   ]
  },
  {
   "cell_type": "code",
   "execution_count": 19,
   "id": "c59e4485",
   "metadata": {},
   "outputs": [
    {
     "data": {
      "application/vnd.microsoft.datawrangler.viewer.v0+json": {
       "columns": [
        {
         "name": "index",
         "rawType": "int64",
         "type": "integer"
        },
        {
         "name": "sentiment",
         "rawType": "int64",
         "type": "integer"
        },
        {
         "name": "clean_text",
         "rawType": "object",
         "type": "unknown"
        },
        {
         "name": "text_length",
         "rawType": "int64",
         "type": "integer"
        },
        {
         "name": "sentiment_label",
         "rawType": "object",
         "type": "string"
        }
       ],
       "ref": "20227aa1-6765-457f-abdd-b9f445c1e27d",
       "rows": [
        [
         "0",
         "1",
         "rising cases covid alarm rising death rate testing capacity means cases detected earlier asymtomatics mild cases identified india scary place go check graphs",
         "23",
         "Negative"
        ],
        [
         "1",
         "0",
         "please vote chicagoindiaresolution marking india independence shared values democracy human rights secularism",
         "12",
         "Positive"
        ],
        [
         "2",
         "1",
         "wishing eidaladha hazrat ibrahim ki sunnah aap sab ko mubarak parts india",
         "12",
         "Negative"
        ],
        [
         "3",
         "1",
         "daily coronavirus cases india top first time covid",
         "8",
         "Negative"
        ],
        [
         "4",
         "0",
         "sitting india style watching raindrops hit big ass pond listening amy winehouse finallay understand zahree talking",
         "16",
         "Positive"
        ],
        [
         "5",
         "1",
         "believes china india natural resources available australia",
         "7",
         "Negative"
        ],
        [
         "6",
         "1",
         "happy new education policy implementation india education basis country progress kudos nep",
         "12",
         "Negative"
        ],
        [
         "7",
         "0",
         "india development partnership come conditions pm",
         "6",
         "Positive"
        ],
        [
         "8",
         "1",
         "hon prime minister india new education policy succeed possible basic contractual teacher mentally healthy pay attention safe future fair salary thank",
         "21",
         "Negative"
        ],
        [
         "9",
         "1",
         "look forward implementation new education policy promises build strong resilient india blended learning future congratulations",
         "15",
         "Negative"
        ],
        [
         "10",
         "1",
         "love india",
         "2",
         "Negative"
        ],
        [
         "11",
         "0",
         "justinbieber late hear sorry cause india rock justin coming hear big fan",
         "12",
         "Positive"
        ],
        [
         "12",
         "0",
         "gooooood morninggggg india",
         "3",
         "Positive"
        ],
        [
         "13",
         "0",
         "sun rising deoria",
         "3",
         "Positive"
        ],
        [
         "14",
         "0",
         "india dm let trade return profit",
         "6",
         "Positive"
        ],
        [
         "15",
         "1",
         "india woke nothing feels better",
         "5",
         "Negative"
        ],
        [
         "16",
         "0",
         "last order biryani fav india place",
         "6",
         "Positive"
        ],
        [
         "17",
         "1",
         "want get car drive rn lol know anywhere va",
         "9",
         "Negative"
        ],
        [
         "18",
         "0",
         "due trade policy",
         "3",
         "Positive"
        ],
        [
         "19",
         "0",
         "guys know newegg india money spend holy shit know advertised yet like paradise pc enthusiasts really hope contributes bringing indian pc part prices",
         "23",
         "Positive"
        ],
        [
         "20",
         "0",
         "sir",
         "1",
         "Positive"
        ],
        [
         "21",
         "1",
         "india sitars known sympathetic strings inside mas",
         "7",
         "Negative"
        ],
        [
         "22",
         "0",
         "muslims india get united august event time stop rss babrimosque rammandir",
         "11",
         "Positive"
        ],
        [
         "23",
         "1",
         "love india really chill lowkey durk definitely lucked",
         "8",
         "Negative"
        ],
        [
         "24",
         "1",
         "anyone notices pakistan actually ready nuclear war india appears assumption military rather situation india hand full hubris escalating since nuclear tests",
         "21",
         "Negative"
        ],
        [
         "25",
         "0",
         "onthisday",
         "1",
         "Positive"
        ],
        [
         "26",
         "0",
         "india",
         "1",
         "Positive"
        ],
        [
         "27",
         "0",
         "hate ppl play time get real irritable",
         "7",
         "Positive"
        ],
        [
         "28",
         "0",
         "daily number deaths due confirmed sars cov within last hrs change previous day oxford data isolate sick clean hands mask give italy deaths china deaths usa deaths india deaths aus deaths winter",
         "32",
         "Positive"
        ],
        [
         "29",
         "1",
         "punjabi state pakistan creating strong dissent pashtun community chaman balochistan barbaric massacre civilians using colonial british india force fc calls another bangladesh time pashtuns stateattackedchamansitin",
         "25",
         "Negative"
        ],
        [
         "30",
         "0",
         "pompeo says global support us policies china rise",
         "8",
         "Positive"
        ],
        [
         "31",
         "1",
         "sushantsinghrajput bench hearing pil led chief justice india said let police job nothing whether person good person bad person also jurisdiction go bombay hc anything concrete show",
         "27",
         "Negative"
        ],
        [
         "32",
         "0",
         "yearsforihmagadheera india lo evarina trend lo participate chesthunnara",
         "8",
         "Positive"
        ],
        [
         "33",
         "0",
         "india",
         "1",
         "Positive"
        ],
        [
         "34",
         "1",
         "bout ready pack dolls sweater",
         "5",
         "Negative"
        ],
        [
         "35",
         "0",
         "go india speak sage street go wisdom go take work make famous celebrity fake king queen expectations",
         "17",
         "Positive"
        ],
        [
         "36",
         "1",
         "respected prime minister india new education policy succeed possible basic contractual teacher mentally healthy pay attention safe future fair salary thank",
         "21",
         "Negative"
        ],
        [
         "37",
         "1",
         "thank keeping alarm going whole india versus mafia bollywood behind elaborate cover heinous crime justiceforssr",
         "15",
         "Negative"
        ],
        [
         "38",
         "1",
         "outdoor time listening podcasts talkin negative numbers hopefully history shoutout math nerd wwx born one best places world canon era math nerdery india would cool af",
         "26",
         "Negative"
        ],
        [
         "39",
         "0",
         "get many recommended articles india twitter google wtf india paying organizations get promoted platforms",
         "14",
         "Positive"
        ],
        [
         "40",
         "0",
         "add snapchat india tanzii",
         "4",
         "Positive"
        ],
        [
         "41",
         "1",
         "hon prime minister india new education policy succeed possible basic contractual teacher mentally healthy pay attention safe future fair salary thank",
         "21",
         "Negative"
        ],
        [
         "42",
         "0",
         "anyone wondering radhema days reporter india bring us breaking news help corona drudgery",
         "13",
         "Positive"
        ],
        [
         "43",
         "1",
         "currently nandgaon india light rain shower wind direction wind speed mph pressure mbars humidity",
         "14",
         "Negative"
        ],
        [
         "44",
         "0",
         "look idk heat feeling folks vibes",
         "6",
         "Positive"
        ],
        [
         "45",
         "1",
         "strong results facebook fb revenue bn operating income bn margin dau bn cash billion facebook move india bn jio impending rollout payments whatsapp drive future growth",
         "26",
         "Negative"
        ],
        [
         "46",
         "0",
         "joke users data protection india unfortunately exist",
         "7",
         "Positive"
        ],
        [
         "47",
         "1",
         "india like bestfriend wow",
         "4",
         "Negative"
        ],
        [
         "48",
         "0",
         "back back pan india movies track lo ki vachesaru bunny anna aa",
         "12",
         "Positive"
        ],
        [
         "49",
         "0",
         "like shitty white dudes go africa tourist adventures murder endangered animals southeast asia sex underage hookers ones go vacation india turkey",
         "21",
         "Positive"
        ]
       ],
       "shape": {
        "columns": 4,
        "rows": 134329
       }
      },
      "text/html": [
       "<div>\n",
       "<style scoped>\n",
       "    .dataframe tbody tr th:only-of-type {\n",
       "        vertical-align: middle;\n",
       "    }\n",
       "\n",
       "    .dataframe tbody tr th {\n",
       "        vertical-align: top;\n",
       "    }\n",
       "\n",
       "    .dataframe thead th {\n",
       "        text-align: right;\n",
       "    }\n",
       "</style>\n",
       "<table border=\"1\" class=\"dataframe\">\n",
       "  <thead>\n",
       "    <tr style=\"text-align: right;\">\n",
       "      <th></th>\n",
       "      <th>sentiment</th>\n",
       "      <th>clean_text</th>\n",
       "      <th>text_length</th>\n",
       "      <th>sentiment_label</th>\n",
       "    </tr>\n",
       "  </thead>\n",
       "  <tbody>\n",
       "    <tr>\n",
       "      <th>0</th>\n",
       "      <td>1</td>\n",
       "      <td>rising cases covid alarm rising death rate tes...</td>\n",
       "      <td>23</td>\n",
       "      <td>Negative</td>\n",
       "    </tr>\n",
       "    <tr>\n",
       "      <th>1</th>\n",
       "      <td>0</td>\n",
       "      <td>please vote chicagoindiaresolution marking ind...</td>\n",
       "      <td>12</td>\n",
       "      <td>Positive</td>\n",
       "    </tr>\n",
       "    <tr>\n",
       "      <th>2</th>\n",
       "      <td>1</td>\n",
       "      <td>wishing eidaladha hazrat ibrahim ki sunnah aap...</td>\n",
       "      <td>12</td>\n",
       "      <td>Negative</td>\n",
       "    </tr>\n",
       "    <tr>\n",
       "      <th>3</th>\n",
       "      <td>1</td>\n",
       "      <td>daily coronavirus cases india top first time c...</td>\n",
       "      <td>8</td>\n",
       "      <td>Negative</td>\n",
       "    </tr>\n",
       "    <tr>\n",
       "      <th>4</th>\n",
       "      <td>0</td>\n",
       "      <td>sitting india style watching raindrops hit big...</td>\n",
       "      <td>16</td>\n",
       "      <td>Positive</td>\n",
       "    </tr>\n",
       "    <tr>\n",
       "      <th>...</th>\n",
       "      <td>...</td>\n",
       "      <td>...</td>\n",
       "      <td>...</td>\n",
       "      <td>...</td>\n",
       "    </tr>\n",
       "    <tr>\n",
       "      <th>134324</th>\n",
       "      <td>1</td>\n",
       "      <td>happydiwali india dgisi dgispr real face expos...</td>\n",
       "      <td>10</td>\n",
       "      <td>Negative</td>\n",
       "    </tr>\n",
       "    <tr>\n",
       "      <th>134325</th>\n",
       "      <td>1</td>\n",
       "      <td>india involved many countries terrorism cells ...</td>\n",
       "      <td>25</td>\n",
       "      <td>Negative</td>\n",
       "    </tr>\n",
       "    <tr>\n",
       "      <th>134326</th>\n",
       "      <td>0</td>\n",
       "      <td>anybody know website ships pre order bts seaso...</td>\n",
       "      <td>10</td>\n",
       "      <td>Positive</td>\n",
       "    </tr>\n",
       "    <tr>\n",
       "      <th>134327</th>\n",
       "      <td>0</td>\n",
       "      <td>hinted weeks back interview today presented ev...</td>\n",
       "      <td>13</td>\n",
       "      <td>Positive</td>\n",
       "    </tr>\n",
       "    <tr>\n",
       "      <th>134328</th>\n",
       "      <td>0</td>\n",
       "      <td>slice pakistan national security advisor world...</td>\n",
       "      <td>21</td>\n",
       "      <td>Positive</td>\n",
       "    </tr>\n",
       "  </tbody>\n",
       "</table>\n",
       "<p>134329 rows × 4 columns</p>\n",
       "</div>"
      ],
      "text/plain": [
       "        sentiment                                         clean_text  \\\n",
       "0               1  rising cases covid alarm rising death rate tes...   \n",
       "1               0  please vote chicagoindiaresolution marking ind...   \n",
       "2               1  wishing eidaladha hazrat ibrahim ki sunnah aap...   \n",
       "3               1  daily coronavirus cases india top first time c...   \n",
       "4               0  sitting india style watching raindrops hit big...   \n",
       "...           ...                                                ...   \n",
       "134324          1  happydiwali india dgisi dgispr real face expos...   \n",
       "134325          1  india involved many countries terrorism cells ...   \n",
       "134326          0  anybody know website ships pre order bts seaso...   \n",
       "134327          0  hinted weeks back interview today presented ev...   \n",
       "134328          0  slice pakistan national security advisor world...   \n",
       "\n",
       "        text_length sentiment_label  \n",
       "0                23        Negative  \n",
       "1                12        Positive  \n",
       "2                12        Negative  \n",
       "3                 8        Negative  \n",
       "4                16        Positive  \n",
       "...             ...             ...  \n",
       "134324           10        Negative  \n",
       "134325           25        Negative  \n",
       "134326           10        Positive  \n",
       "134327           13        Positive  \n",
       "134328           21        Positive  \n",
       "\n",
       "[134329 rows x 4 columns]"
      ]
     },
     "execution_count": 19,
     "metadata": {},
     "output_type": "execute_result"
    }
   ],
   "source": [
    "# importing the ds_clean file\n",
    "df = pd.read_csv('ds_clean.csv')\n",
    "df"
   ]
  },
  {
   "cell_type": "markdown",
   "id": "364cca24",
   "metadata": {},
   "source": [
    "## Sentiment classification"
   ]
  },
  {
   "cell_type": "code",
   "execution_count": 20,
   "id": "66014bea",
   "metadata": {},
   "outputs": [],
   "source": [
    "from sklearn.model_selection import train_test_split\n",
    "from sklearn.feature_extraction.text import TfidfVectorizer\n",
    "from sklearn.linear_model import LogisticRegression\n",
    "from sklearn.naive_bayes import MultinomialNB\n",
    "from sklearn.svm import LinearSVC"
   ]
  },
  {
   "cell_type": "code",
   "execution_count": 21,
   "id": "a55f7c96",
   "metadata": {},
   "outputs": [],
   "source": [
    "# Drop any missing text rows\n",
    "df = df.dropna(subset=['clean_text'])"
   ]
  },
  {
   "cell_type": "code",
   "execution_count": 22,
   "id": "c0075db5",
   "metadata": {},
   "outputs": [],
   "source": [
    "# ---- 3. Split Data ----\n",
    "X = df['clean_text']\n",
    "y = df['sentiment_label']  # already mapped to 'Positive'/'Negative'"
   ]
  },
  {
   "cell_type": "code",
   "execution_count": 23,
   "id": "7f3f80ea",
   "metadata": {},
   "outputs": [],
   "source": [
    "# Getting the train data and test data\n",
    "\n",
    "X_train, X_test, y_train, y_test = train_test_split(X, y, test_size=0.2, random_state=42, stratify=y)"
   ]
  },
  {
   "cell_type": "code",
   "execution_count": 24,
   "id": "8e4631c0",
   "metadata": {},
   "outputs": [
    {
     "name": "stdout",
     "output_type": "stream",
     "text": [
      "Training samples: 107420\n",
      "Testing samples: 26856\n"
     ]
    }
   ],
   "source": [
    "print(f\"Training samples: {len(X_train)}\")\n",
    "print(f\"Testing samples: {len(X_test)}\")"
   ]
  },
  {
   "cell_type": "code",
   "execution_count": 25,
   "id": "4baaf7e3",
   "metadata": {},
   "outputs": [],
   "source": [
    "# ---- 4. Vectorization ----\n",
    "tfidf = TfidfVectorizer(max_features=5000, ngram_range=(1,2))\n",
    "X_train_tfidf = tfidf.fit_transform(X_train)\n",
    "X_test_tfidf = tfidf.transform(X_test)"
   ]
  },
  {
   "cell_type": "markdown",
   "id": "691a61bc",
   "metadata": {},
   "source": [
    "TF-IDF was used for text representation — it converts words into numeric vectors capturing word importance."
   ]
  },
  {
   "cell_type": "code",
   "execution_count": null,
   "id": "4db4e4ee",
   "metadata": {},
   "outputs": [
    {
     "data": {
      "text/html": [
       "<style>#sk-container-id-1 {\n",
       "  /* Definition of color scheme common for light and dark mode */\n",
       "  --sklearn-color-text: #000;\n",
       "  --sklearn-color-text-muted: #666;\n",
       "  --sklearn-color-line: gray;\n",
       "  /* Definition of color scheme for unfitted estimators */\n",
       "  --sklearn-color-unfitted-level-0: #fff5e6;\n",
       "  --sklearn-color-unfitted-level-1: #f6e4d2;\n",
       "  --sklearn-color-unfitted-level-2: #ffe0b3;\n",
       "  --sklearn-color-unfitted-level-3: chocolate;\n",
       "  /* Definition of color scheme for fitted estimators */\n",
       "  --sklearn-color-fitted-level-0: #f0f8ff;\n",
       "  --sklearn-color-fitted-level-1: #d4ebff;\n",
       "  --sklearn-color-fitted-level-2: #b3dbfd;\n",
       "  --sklearn-color-fitted-level-3: cornflowerblue;\n",
       "\n",
       "  /* Specific color for light theme */\n",
       "  --sklearn-color-text-on-default-background: var(--sg-text-color, var(--theme-code-foreground, var(--jp-content-font-color1, black)));\n",
       "  --sklearn-color-background: var(--sg-background-color, var(--theme-background, var(--jp-layout-color0, white)));\n",
       "  --sklearn-color-border-box: var(--sg-text-color, var(--theme-code-foreground, var(--jp-content-font-color1, black)));\n",
       "  --sklearn-color-icon: #696969;\n",
       "\n",
       "  @media (prefers-color-scheme: dark) {\n",
       "    /* Redefinition of color scheme for dark theme */\n",
       "    --sklearn-color-text-on-default-background: var(--sg-text-color, var(--theme-code-foreground, var(--jp-content-font-color1, white)));\n",
       "    --sklearn-color-background: var(--sg-background-color, var(--theme-background, var(--jp-layout-color0, #111)));\n",
       "    --sklearn-color-border-box: var(--sg-text-color, var(--theme-code-foreground, var(--jp-content-font-color1, white)));\n",
       "    --sklearn-color-icon: #878787;\n",
       "  }\n",
       "}\n",
       "\n",
       "#sk-container-id-1 {\n",
       "  color: var(--sklearn-color-text);\n",
       "}\n",
       "\n",
       "#sk-container-id-1 pre {\n",
       "  padding: 0;\n",
       "}\n",
       "\n",
       "#sk-container-id-1 input.sk-hidden--visually {\n",
       "  border: 0;\n",
       "  clip: rect(1px 1px 1px 1px);\n",
       "  clip: rect(1px, 1px, 1px, 1px);\n",
       "  height: 1px;\n",
       "  margin: -1px;\n",
       "  overflow: hidden;\n",
       "  padding: 0;\n",
       "  position: absolute;\n",
       "  width: 1px;\n",
       "}\n",
       "\n",
       "#sk-container-id-1 div.sk-dashed-wrapped {\n",
       "  border: 1px dashed var(--sklearn-color-line);\n",
       "  margin: 0 0.4em 0.5em 0.4em;\n",
       "  box-sizing: border-box;\n",
       "  padding-bottom: 0.4em;\n",
       "  background-color: var(--sklearn-color-background);\n",
       "}\n",
       "\n",
       "#sk-container-id-1 div.sk-container {\n",
       "  /* jupyter's `normalize.less` sets `[hidden] { display: none; }`\n",
       "     but bootstrap.min.css set `[hidden] { display: none !important; }`\n",
       "     so we also need the `!important` here to be able to override the\n",
       "     default hidden behavior on the sphinx rendered scikit-learn.org.\n",
       "     See: https://github.com/scikit-learn/scikit-learn/issues/21755 */\n",
       "  display: inline-block !important;\n",
       "  position: relative;\n",
       "}\n",
       "\n",
       "#sk-container-id-1 div.sk-text-repr-fallback {\n",
       "  display: none;\n",
       "}\n",
       "\n",
       "div.sk-parallel-item,\n",
       "div.sk-serial,\n",
       "div.sk-item {\n",
       "  /* draw centered vertical line to link estimators */\n",
       "  background-image: linear-gradient(var(--sklearn-color-text-on-default-background), var(--sklearn-color-text-on-default-background));\n",
       "  background-size: 2px 100%;\n",
       "  background-repeat: no-repeat;\n",
       "  background-position: center center;\n",
       "}\n",
       "\n",
       "/* Parallel-specific style estimator block */\n",
       "\n",
       "#sk-container-id-1 div.sk-parallel-item::after {\n",
       "  content: \"\";\n",
       "  width: 100%;\n",
       "  border-bottom: 2px solid var(--sklearn-color-text-on-default-background);\n",
       "  flex-grow: 1;\n",
       "}\n",
       "\n",
       "#sk-container-id-1 div.sk-parallel {\n",
       "  display: flex;\n",
       "  align-items: stretch;\n",
       "  justify-content: center;\n",
       "  background-color: var(--sklearn-color-background);\n",
       "  position: relative;\n",
       "}\n",
       "\n",
       "#sk-container-id-1 div.sk-parallel-item {\n",
       "  display: flex;\n",
       "  flex-direction: column;\n",
       "}\n",
       "\n",
       "#sk-container-id-1 div.sk-parallel-item:first-child::after {\n",
       "  align-self: flex-end;\n",
       "  width: 50%;\n",
       "}\n",
       "\n",
       "#sk-container-id-1 div.sk-parallel-item:last-child::after {\n",
       "  align-self: flex-start;\n",
       "  width: 50%;\n",
       "}\n",
       "\n",
       "#sk-container-id-1 div.sk-parallel-item:only-child::after {\n",
       "  width: 0;\n",
       "}\n",
       "\n",
       "/* Serial-specific style estimator block */\n",
       "\n",
       "#sk-container-id-1 div.sk-serial {\n",
       "  display: flex;\n",
       "  flex-direction: column;\n",
       "  align-items: center;\n",
       "  background-color: var(--sklearn-color-background);\n",
       "  padding-right: 1em;\n",
       "  padding-left: 1em;\n",
       "}\n",
       "\n",
       "\n",
       "/* Toggleable style: style used for estimator/Pipeline/ColumnTransformer box that is\n",
       "clickable and can be expanded/collapsed.\n",
       "- Pipeline and ColumnTransformer use this feature and define the default style\n",
       "- Estimators will overwrite some part of the style using the `sk-estimator` class\n",
       "*/\n",
       "\n",
       "/* Pipeline and ColumnTransformer style (default) */\n",
       "\n",
       "#sk-container-id-1 div.sk-toggleable {\n",
       "  /* Default theme specific background. It is overwritten whether we have a\n",
       "  specific estimator or a Pipeline/ColumnTransformer */\n",
       "  background-color: var(--sklearn-color-background);\n",
       "}\n",
       "\n",
       "/* Toggleable label */\n",
       "#sk-container-id-1 label.sk-toggleable__label {\n",
       "  cursor: pointer;\n",
       "  display: flex;\n",
       "  width: 100%;\n",
       "  margin-bottom: 0;\n",
       "  padding: 0.5em;\n",
       "  box-sizing: border-box;\n",
       "  text-align: center;\n",
       "  align-items: start;\n",
       "  justify-content: space-between;\n",
       "  gap: 0.5em;\n",
       "}\n",
       "\n",
       "#sk-container-id-1 label.sk-toggleable__label .caption {\n",
       "  font-size: 0.6rem;\n",
       "  font-weight: lighter;\n",
       "  color: var(--sklearn-color-text-muted);\n",
       "}\n",
       "\n",
       "#sk-container-id-1 label.sk-toggleable__label-arrow:before {\n",
       "  /* Arrow on the left of the label */\n",
       "  content: \"▸\";\n",
       "  float: left;\n",
       "  margin-right: 0.25em;\n",
       "  color: var(--sklearn-color-icon);\n",
       "}\n",
       "\n",
       "#sk-container-id-1 label.sk-toggleable__label-arrow:hover:before {\n",
       "  color: var(--sklearn-color-text);\n",
       "}\n",
       "\n",
       "/* Toggleable content - dropdown */\n",
       "\n",
       "#sk-container-id-1 div.sk-toggleable__content {\n",
       "  display: none;\n",
       "  text-align: left;\n",
       "  /* unfitted */\n",
       "  background-color: var(--sklearn-color-unfitted-level-0);\n",
       "}\n",
       "\n",
       "#sk-container-id-1 div.sk-toggleable__content.fitted {\n",
       "  /* fitted */\n",
       "  background-color: var(--sklearn-color-fitted-level-0);\n",
       "}\n",
       "\n",
       "#sk-container-id-1 div.sk-toggleable__content pre {\n",
       "  margin: 0.2em;\n",
       "  border-radius: 0.25em;\n",
       "  color: var(--sklearn-color-text);\n",
       "  /* unfitted */\n",
       "  background-color: var(--sklearn-color-unfitted-level-0);\n",
       "}\n",
       "\n",
       "#sk-container-id-1 div.sk-toggleable__content.fitted pre {\n",
       "  /* unfitted */\n",
       "  background-color: var(--sklearn-color-fitted-level-0);\n",
       "}\n",
       "\n",
       "#sk-container-id-1 input.sk-toggleable__control:checked~div.sk-toggleable__content {\n",
       "  /* Expand drop-down */\n",
       "  display: block;\n",
       "  width: 100%;\n",
       "  overflow: visible;\n",
       "}\n",
       "\n",
       "#sk-container-id-1 input.sk-toggleable__control:checked~label.sk-toggleable__label-arrow:before {\n",
       "  content: \"▾\";\n",
       "}\n",
       "\n",
       "/* Pipeline/ColumnTransformer-specific style */\n",
       "\n",
       "#sk-container-id-1 div.sk-label input.sk-toggleable__control:checked~label.sk-toggleable__label {\n",
       "  color: var(--sklearn-color-text);\n",
       "  background-color: var(--sklearn-color-unfitted-level-2);\n",
       "}\n",
       "\n",
       "#sk-container-id-1 div.sk-label.fitted input.sk-toggleable__control:checked~label.sk-toggleable__label {\n",
       "  background-color: var(--sklearn-color-fitted-level-2);\n",
       "}\n",
       "\n",
       "/* Estimator-specific style */\n",
       "\n",
       "/* Colorize estimator box */\n",
       "#sk-container-id-1 div.sk-estimator input.sk-toggleable__control:checked~label.sk-toggleable__label {\n",
       "  /* unfitted */\n",
       "  background-color: var(--sklearn-color-unfitted-level-2);\n",
       "}\n",
       "\n",
       "#sk-container-id-1 div.sk-estimator.fitted input.sk-toggleable__control:checked~label.sk-toggleable__label {\n",
       "  /* fitted */\n",
       "  background-color: var(--sklearn-color-fitted-level-2);\n",
       "}\n",
       "\n",
       "#sk-container-id-1 div.sk-label label.sk-toggleable__label,\n",
       "#sk-container-id-1 div.sk-label label {\n",
       "  /* The background is the default theme color */\n",
       "  color: var(--sklearn-color-text-on-default-background);\n",
       "}\n",
       "\n",
       "/* On hover, darken the color of the background */\n",
       "#sk-container-id-1 div.sk-label:hover label.sk-toggleable__label {\n",
       "  color: var(--sklearn-color-text);\n",
       "  background-color: var(--sklearn-color-unfitted-level-2);\n",
       "}\n",
       "\n",
       "/* Label box, darken color on hover, fitted */\n",
       "#sk-container-id-1 div.sk-label.fitted:hover label.sk-toggleable__label.fitted {\n",
       "  color: var(--sklearn-color-text);\n",
       "  background-color: var(--sklearn-color-fitted-level-2);\n",
       "}\n",
       "\n",
       "/* Estimator label */\n",
       "\n",
       "#sk-container-id-1 div.sk-label label {\n",
       "  font-family: monospace;\n",
       "  font-weight: bold;\n",
       "  display: inline-block;\n",
       "  line-height: 1.2em;\n",
       "}\n",
       "\n",
       "#sk-container-id-1 div.sk-label-container {\n",
       "  text-align: center;\n",
       "}\n",
       "\n",
       "/* Estimator-specific */\n",
       "#sk-container-id-1 div.sk-estimator {\n",
       "  font-family: monospace;\n",
       "  border: 1px dotted var(--sklearn-color-border-box);\n",
       "  border-radius: 0.25em;\n",
       "  box-sizing: border-box;\n",
       "  margin-bottom: 0.5em;\n",
       "  /* unfitted */\n",
       "  background-color: var(--sklearn-color-unfitted-level-0);\n",
       "}\n",
       "\n",
       "#sk-container-id-1 div.sk-estimator.fitted {\n",
       "  /* fitted */\n",
       "  background-color: var(--sklearn-color-fitted-level-0);\n",
       "}\n",
       "\n",
       "/* on hover */\n",
       "#sk-container-id-1 div.sk-estimator:hover {\n",
       "  /* unfitted */\n",
       "  background-color: var(--sklearn-color-unfitted-level-2);\n",
       "}\n",
       "\n",
       "#sk-container-id-1 div.sk-estimator.fitted:hover {\n",
       "  /* fitted */\n",
       "  background-color: var(--sklearn-color-fitted-level-2);\n",
       "}\n",
       "\n",
       "/* Specification for estimator info (e.g. \"i\" and \"?\") */\n",
       "\n",
       "/* Common style for \"i\" and \"?\" */\n",
       "\n",
       ".sk-estimator-doc-link,\n",
       "a:link.sk-estimator-doc-link,\n",
       "a:visited.sk-estimator-doc-link {\n",
       "  float: right;\n",
       "  font-size: smaller;\n",
       "  line-height: 1em;\n",
       "  font-family: monospace;\n",
       "  background-color: var(--sklearn-color-background);\n",
       "  border-radius: 1em;\n",
       "  height: 1em;\n",
       "  width: 1em;\n",
       "  text-decoration: none !important;\n",
       "  margin-left: 0.5em;\n",
       "  text-align: center;\n",
       "  /* unfitted */\n",
       "  border: var(--sklearn-color-unfitted-level-1) 1pt solid;\n",
       "  color: var(--sklearn-color-unfitted-level-1);\n",
       "}\n",
       "\n",
       ".sk-estimator-doc-link.fitted,\n",
       "a:link.sk-estimator-doc-link.fitted,\n",
       "a:visited.sk-estimator-doc-link.fitted {\n",
       "  /* fitted */\n",
       "  border: var(--sklearn-color-fitted-level-1) 1pt solid;\n",
       "  color: var(--sklearn-color-fitted-level-1);\n",
       "}\n",
       "\n",
       "/* On hover */\n",
       "div.sk-estimator:hover .sk-estimator-doc-link:hover,\n",
       ".sk-estimator-doc-link:hover,\n",
       "div.sk-label-container:hover .sk-estimator-doc-link:hover,\n",
       ".sk-estimator-doc-link:hover {\n",
       "  /* unfitted */\n",
       "  background-color: var(--sklearn-color-unfitted-level-3);\n",
       "  color: var(--sklearn-color-background);\n",
       "  text-decoration: none;\n",
       "}\n",
       "\n",
       "div.sk-estimator.fitted:hover .sk-estimator-doc-link.fitted:hover,\n",
       ".sk-estimator-doc-link.fitted:hover,\n",
       "div.sk-label-container:hover .sk-estimator-doc-link.fitted:hover,\n",
       ".sk-estimator-doc-link.fitted:hover {\n",
       "  /* fitted */\n",
       "  background-color: var(--sklearn-color-fitted-level-3);\n",
       "  color: var(--sklearn-color-background);\n",
       "  text-decoration: none;\n",
       "}\n",
       "\n",
       "/* Span, style for the box shown on hovering the info icon */\n",
       ".sk-estimator-doc-link span {\n",
       "  display: none;\n",
       "  z-index: 9999;\n",
       "  position: relative;\n",
       "  font-weight: normal;\n",
       "  right: .2ex;\n",
       "  padding: .5ex;\n",
       "  margin: .5ex;\n",
       "  width: min-content;\n",
       "  min-width: 20ex;\n",
       "  max-width: 50ex;\n",
       "  color: var(--sklearn-color-text);\n",
       "  box-shadow: 2pt 2pt 4pt #999;\n",
       "  /* unfitted */\n",
       "  background: var(--sklearn-color-unfitted-level-0);\n",
       "  border: .5pt solid var(--sklearn-color-unfitted-level-3);\n",
       "}\n",
       "\n",
       ".sk-estimator-doc-link.fitted span {\n",
       "  /* fitted */\n",
       "  background: var(--sklearn-color-fitted-level-0);\n",
       "  border: var(--sklearn-color-fitted-level-3);\n",
       "}\n",
       "\n",
       ".sk-estimator-doc-link:hover span {\n",
       "  display: block;\n",
       "}\n",
       "\n",
       "/* \"?\"-specific style due to the `<a>` HTML tag */\n",
       "\n",
       "#sk-container-id-1 a.estimator_doc_link {\n",
       "  float: right;\n",
       "  font-size: 1rem;\n",
       "  line-height: 1em;\n",
       "  font-family: monospace;\n",
       "  background-color: var(--sklearn-color-background);\n",
       "  border-radius: 1rem;\n",
       "  height: 1rem;\n",
       "  width: 1rem;\n",
       "  text-decoration: none;\n",
       "  /* unfitted */\n",
       "  color: var(--sklearn-color-unfitted-level-1);\n",
       "  border: var(--sklearn-color-unfitted-level-1) 1pt solid;\n",
       "}\n",
       "\n",
       "#sk-container-id-1 a.estimator_doc_link.fitted {\n",
       "  /* fitted */\n",
       "  border: var(--sklearn-color-fitted-level-1) 1pt solid;\n",
       "  color: var(--sklearn-color-fitted-level-1);\n",
       "}\n",
       "\n",
       "/* On hover */\n",
       "#sk-container-id-1 a.estimator_doc_link:hover {\n",
       "  /* unfitted */\n",
       "  background-color: var(--sklearn-color-unfitted-level-3);\n",
       "  color: var(--sklearn-color-background);\n",
       "  text-decoration: none;\n",
       "}\n",
       "\n",
       "#sk-container-id-1 a.estimator_doc_link.fitted:hover {\n",
       "  /* fitted */\n",
       "  background-color: var(--sklearn-color-fitted-level-3);\n",
       "}\n",
       "\n",
       ".estimator-table summary {\n",
       "    padding: .5rem;\n",
       "    font-family: monospace;\n",
       "    cursor: pointer;\n",
       "}\n",
       "\n",
       ".estimator-table details[open] {\n",
       "    padding-left: 0.1rem;\n",
       "    padding-right: 0.1rem;\n",
       "    padding-bottom: 0.3rem;\n",
       "}\n",
       "\n",
       ".estimator-table .parameters-table {\n",
       "    margin-left: auto !important;\n",
       "    margin-right: auto !important;\n",
       "}\n",
       "\n",
       ".estimator-table .parameters-table tr:nth-child(odd) {\n",
       "    background-color: #fff;\n",
       "}\n",
       "\n",
       ".estimator-table .parameters-table tr:nth-child(even) {\n",
       "    background-color: #f6f6f6;\n",
       "}\n",
       "\n",
       ".estimator-table .parameters-table tr:hover {\n",
       "    background-color: #e0e0e0;\n",
       "}\n",
       "\n",
       ".estimator-table table td {\n",
       "    border: 1px solid rgba(106, 105, 104, 0.232);\n",
       "}\n",
       "\n",
       ".user-set td {\n",
       "    color:rgb(255, 94, 0);\n",
       "    text-align: left;\n",
       "}\n",
       "\n",
       ".user-set td.value pre {\n",
       "    color:rgb(255, 94, 0) !important;\n",
       "    background-color: transparent !important;\n",
       "}\n",
       "\n",
       ".default td {\n",
       "    color: black;\n",
       "    text-align: left;\n",
       "}\n",
       "\n",
       ".user-set td i,\n",
       ".default td i {\n",
       "    color: black;\n",
       "}\n",
       "\n",
       ".copy-paste-icon {\n",
       "    background-image: url(data:image/svg+xml;base64,PHN2ZyB4bWxucz0iaHR0cDovL3d3dy53My5vcmcvMjAwMC9zdmciIHZpZXdCb3g9IjAgMCA0NDggNTEyIj48IS0tIUZvbnQgQXdlc29tZSBGcmVlIDYuNy4yIGJ5IEBmb250YXdlc29tZSAtIGh0dHBzOi8vZm9udGF3ZXNvbWUuY29tIExpY2Vuc2UgLSBodHRwczovL2ZvbnRhd2Vzb21lLmNvbS9saWNlbnNlL2ZyZWUgQ29weXJpZ2h0IDIwMjUgRm9udGljb25zLCBJbmMuLS0+PHBhdGggZD0iTTIwOCAwTDMzMi4xIDBjMTIuNyAwIDI0LjkgNS4xIDMzLjkgMTQuMWw2Ny45IDY3LjljOSA5IDE0LjEgMjEuMiAxNC4xIDMzLjlMNDQ4IDMzNmMwIDI2LjUtMjEuNSA0OC00OCA0OGwtMTkyIDBjLTI2LjUgMC00OC0yMS41LTQ4LTQ4bDAtMjg4YzAtMjYuNSAyMS41LTQ4IDQ4LTQ4ek00OCAxMjhsODAgMCAwIDY0LTY0IDAgMCAyNTYgMTkyIDAgMC0zMiA2NCAwIDAgNDhjMCAyNi41LTIxLjUgNDgtNDggNDhMNDggNTEyYy0yNi41IDAtNDgtMjEuNS00OC00OEwwIDE3NmMwLTI2LjUgMjEuNS00OCA0OC00OHoiLz48L3N2Zz4=);\n",
       "    background-repeat: no-repeat;\n",
       "    background-size: 14px 14px;\n",
       "    background-position: 0;\n",
       "    display: inline-block;\n",
       "    width: 14px;\n",
       "    height: 14px;\n",
       "    cursor: pointer;\n",
       "}\n",
       "</style><body><div id=\"sk-container-id-1\" class=\"sk-top-container\"><div class=\"sk-text-repr-fallback\"><pre>LogisticRegression(max_iter=200)</pre><b>In a Jupyter environment, please rerun this cell to show the HTML representation or trust the notebook. <br />On GitHub, the HTML representation is unable to render, please try loading this page with nbviewer.org.</b></div><div class=\"sk-container\" hidden><div class=\"sk-item\"><div class=\"sk-estimator fitted sk-toggleable\"><input class=\"sk-toggleable__control sk-hidden--visually\" id=\"sk-estimator-id-1\" type=\"checkbox\" checked><label for=\"sk-estimator-id-1\" class=\"sk-toggleable__label fitted sk-toggleable__label-arrow\"><div><div>LogisticRegression</div></div><div><a class=\"sk-estimator-doc-link fitted\" rel=\"noreferrer\" target=\"_blank\" href=\"https://scikit-learn.org/1.7/modules/generated/sklearn.linear_model.LogisticRegression.html\">?<span>Documentation for LogisticRegression</span></a><span class=\"sk-estimator-doc-link fitted\">i<span>Fitted</span></span></div></label><div class=\"sk-toggleable__content fitted\" data-param-prefix=\"\">\n",
       "        <div class=\"estimator-table\">\n",
       "            <details>\n",
       "                <summary>Parameters</summary>\n",
       "                <table class=\"parameters-table\">\n",
       "                  <tbody>\n",
       "                    \n",
       "        <tr class=\"default\">\n",
       "            <td><i class=\"copy-paste-icon\"\n",
       "                 onclick=\"copyToClipboard('penalty',\n",
       "                          this.parentElement.nextElementSibling)\"\n",
       "            ></i></td>\n",
       "            <td class=\"param\">penalty&nbsp;</td>\n",
       "            <td class=\"value\">&#x27;l2&#x27;</td>\n",
       "        </tr>\n",
       "    \n",
       "\n",
       "        <tr class=\"default\">\n",
       "            <td><i class=\"copy-paste-icon\"\n",
       "                 onclick=\"copyToClipboard('dual',\n",
       "                          this.parentElement.nextElementSibling)\"\n",
       "            ></i></td>\n",
       "            <td class=\"param\">dual&nbsp;</td>\n",
       "            <td class=\"value\">False</td>\n",
       "        </tr>\n",
       "    \n",
       "\n",
       "        <tr class=\"default\">\n",
       "            <td><i class=\"copy-paste-icon\"\n",
       "                 onclick=\"copyToClipboard('tol',\n",
       "                          this.parentElement.nextElementSibling)\"\n",
       "            ></i></td>\n",
       "            <td class=\"param\">tol&nbsp;</td>\n",
       "            <td class=\"value\">0.0001</td>\n",
       "        </tr>\n",
       "    \n",
       "\n",
       "        <tr class=\"default\">\n",
       "            <td><i class=\"copy-paste-icon\"\n",
       "                 onclick=\"copyToClipboard('C',\n",
       "                          this.parentElement.nextElementSibling)\"\n",
       "            ></i></td>\n",
       "            <td class=\"param\">C&nbsp;</td>\n",
       "            <td class=\"value\">1.0</td>\n",
       "        </tr>\n",
       "    \n",
       "\n",
       "        <tr class=\"default\">\n",
       "            <td><i class=\"copy-paste-icon\"\n",
       "                 onclick=\"copyToClipboard('fit_intercept',\n",
       "                          this.parentElement.nextElementSibling)\"\n",
       "            ></i></td>\n",
       "            <td class=\"param\">fit_intercept&nbsp;</td>\n",
       "            <td class=\"value\">True</td>\n",
       "        </tr>\n",
       "    \n",
       "\n",
       "        <tr class=\"default\">\n",
       "            <td><i class=\"copy-paste-icon\"\n",
       "                 onclick=\"copyToClipboard('intercept_scaling',\n",
       "                          this.parentElement.nextElementSibling)\"\n",
       "            ></i></td>\n",
       "            <td class=\"param\">intercept_scaling&nbsp;</td>\n",
       "            <td class=\"value\">1</td>\n",
       "        </tr>\n",
       "    \n",
       "\n",
       "        <tr class=\"default\">\n",
       "            <td><i class=\"copy-paste-icon\"\n",
       "                 onclick=\"copyToClipboard('class_weight',\n",
       "                          this.parentElement.nextElementSibling)\"\n",
       "            ></i></td>\n",
       "            <td class=\"param\">class_weight&nbsp;</td>\n",
       "            <td class=\"value\">None</td>\n",
       "        </tr>\n",
       "    \n",
       "\n",
       "        <tr class=\"default\">\n",
       "            <td><i class=\"copy-paste-icon\"\n",
       "                 onclick=\"copyToClipboard('random_state',\n",
       "                          this.parentElement.nextElementSibling)\"\n",
       "            ></i></td>\n",
       "            <td class=\"param\">random_state&nbsp;</td>\n",
       "            <td class=\"value\">None</td>\n",
       "        </tr>\n",
       "    \n",
       "\n",
       "        <tr class=\"default\">\n",
       "            <td><i class=\"copy-paste-icon\"\n",
       "                 onclick=\"copyToClipboard('solver',\n",
       "                          this.parentElement.nextElementSibling)\"\n",
       "            ></i></td>\n",
       "            <td class=\"param\">solver&nbsp;</td>\n",
       "            <td class=\"value\">&#x27;lbfgs&#x27;</td>\n",
       "        </tr>\n",
       "    \n",
       "\n",
       "        <tr class=\"user-set\">\n",
       "            <td><i class=\"copy-paste-icon\"\n",
       "                 onclick=\"copyToClipboard('max_iter',\n",
       "                          this.parentElement.nextElementSibling)\"\n",
       "            ></i></td>\n",
       "            <td class=\"param\">max_iter&nbsp;</td>\n",
       "            <td class=\"value\">200</td>\n",
       "        </tr>\n",
       "    \n",
       "\n",
       "        <tr class=\"default\">\n",
       "            <td><i class=\"copy-paste-icon\"\n",
       "                 onclick=\"copyToClipboard('multi_class',\n",
       "                          this.parentElement.nextElementSibling)\"\n",
       "            ></i></td>\n",
       "            <td class=\"param\">multi_class&nbsp;</td>\n",
       "            <td class=\"value\">&#x27;deprecated&#x27;</td>\n",
       "        </tr>\n",
       "    \n",
       "\n",
       "        <tr class=\"default\">\n",
       "            <td><i class=\"copy-paste-icon\"\n",
       "                 onclick=\"copyToClipboard('verbose',\n",
       "                          this.parentElement.nextElementSibling)\"\n",
       "            ></i></td>\n",
       "            <td class=\"param\">verbose&nbsp;</td>\n",
       "            <td class=\"value\">0</td>\n",
       "        </tr>\n",
       "    \n",
       "\n",
       "        <tr class=\"default\">\n",
       "            <td><i class=\"copy-paste-icon\"\n",
       "                 onclick=\"copyToClipboard('warm_start',\n",
       "                          this.parentElement.nextElementSibling)\"\n",
       "            ></i></td>\n",
       "            <td class=\"param\">warm_start&nbsp;</td>\n",
       "            <td class=\"value\">False</td>\n",
       "        </tr>\n",
       "    \n",
       "\n",
       "        <tr class=\"default\">\n",
       "            <td><i class=\"copy-paste-icon\"\n",
       "                 onclick=\"copyToClipboard('n_jobs',\n",
       "                          this.parentElement.nextElementSibling)\"\n",
       "            ></i></td>\n",
       "            <td class=\"param\">n_jobs&nbsp;</td>\n",
       "            <td class=\"value\">None</td>\n",
       "        </tr>\n",
       "    \n",
       "\n",
       "        <tr class=\"default\">\n",
       "            <td><i class=\"copy-paste-icon\"\n",
       "                 onclick=\"copyToClipboard('l1_ratio',\n",
       "                          this.parentElement.nextElementSibling)\"\n",
       "            ></i></td>\n",
       "            <td class=\"param\">l1_ratio&nbsp;</td>\n",
       "            <td class=\"value\">None</td>\n",
       "        </tr>\n",
       "    \n",
       "                  </tbody>\n",
       "                </table>\n",
       "            </details>\n",
       "        </div>\n",
       "    </div></div></div></div></div><script>function copyToClipboard(text, element) {\n",
       "    // Get the parameter prefix from the closest toggleable content\n",
       "    const toggleableContent = element.closest('.sk-toggleable__content');\n",
       "    const paramPrefix = toggleableContent ? toggleableContent.dataset.paramPrefix : '';\n",
       "    const fullParamName = paramPrefix ? `${paramPrefix}${text}` : text;\n",
       "\n",
       "    const originalStyle = element.style;\n",
       "    const computedStyle = window.getComputedStyle(element);\n",
       "    const originalWidth = computedStyle.width;\n",
       "    const originalHTML = element.innerHTML.replace('Copied!', '');\n",
       "\n",
       "    navigator.clipboard.writeText(fullParamName)\n",
       "        .then(() => {\n",
       "            element.style.width = originalWidth;\n",
       "            element.style.color = 'green';\n",
       "            element.innerHTML = \"Copied!\";\n",
       "\n",
       "            setTimeout(() => {\n",
       "                element.innerHTML = originalHTML;\n",
       "                element.style = originalStyle;\n",
       "            }, 2000);\n",
       "        })\n",
       "        .catch(err => {\n",
       "            console.error('Failed to copy:', err);\n",
       "            element.style.color = 'red';\n",
       "            element.innerHTML = \"Failed!\";\n",
       "            setTimeout(() => {\n",
       "                element.innerHTML = originalHTML;\n",
       "                element.style = originalStyle;\n",
       "            }, 2000);\n",
       "        });\n",
       "    return false;\n",
       "}\n",
       "\n",
       "document.querySelectorAll('.fa-regular.fa-copy').forEach(function(element) {\n",
       "    const toggleableContent = element.closest('.sk-toggleable__content');\n",
       "    const paramPrefix = toggleableContent ? toggleableContent.dataset.paramPrefix : '';\n",
       "    const paramName = element.parentElement.nextElementSibling.textContent.trim();\n",
       "    const fullParamName = paramPrefix ? `${paramPrefix}${paramName}` : paramName;\n",
       "\n",
       "    element.setAttribute('title', fullParamName);\n",
       "});\n",
       "</script></body>"
      ],
      "text/plain": [
       "LogisticRegression(max_iter=200)"
      ]
     },
     "execution_count": 30,
     "metadata": {},
     "output_type": "execute_result"
    }
   ],
   "source": [
    "# ---- 5. Model Training ----\n",
    "# Logistic Regression\n",
    "log_reg = LogisticRegression(max_iter=200)\n",
    "log_reg.fit(X_train_tfidf, y_train)"
   ]
  },
  {
   "cell_type": "markdown",
   "id": "b011707a",
   "metadata": {},
   "source": [
    "Logistic Regression is chosen as the baseline model because it is simple, interpretable, and effective for text classification."
   ]
  },
  {
   "cell_type": "code",
   "execution_count": null,
   "id": "f1d2da0a",
   "metadata": {},
   "outputs": [],
   "source": [
    "y_pred = log_reg.predict(X_test_tfidf)"
   ]
  },
  {
   "cell_type": "markdown",
   "id": "c115e3a2",
   "metadata": {},
   "source": [
    "Here, you feed the test set (which the model hasn’t seen before) into the model, and it outputs its best guess for each tweet’s sentiment.\n",
    "\n",
    "y_pred will be a list or array of predictions"
   ]
  },
  {
   "cell_type": "markdown",
   "id": "5d424478",
   "metadata": {},
   "source": [
    "## Model Evaluation\n"
   ]
  },
  {
   "cell_type": "code",
   "execution_count": null,
   "id": "e5ab0363",
   "metadata": {},
   "outputs": [],
   "source": [
    "from sklearn.metrics import (\n",
    "    accuracy_score, precision_score, recall_score, f1_score,\n",
    "    classification_report, confusion_matrix\n",
    ")"
   ]
  },
  {
   "cell_type": "code",
   "execution_count": null,
   "id": "e2a0a151",
   "metadata": {},
   "outputs": [
    {
     "name": "stdout",
     "output_type": "stream",
     "text": [
      "\n",
      "===== Logistic Regression Evaluation =====\n",
      "Accuracy:  0.9064\n",
      "Precision: 0.8833\n",
      "Recall:    0.9314\n",
      "F1 Score:  0.9067\n"
     ]
    }
   ],
   "source": [
    "accuracy = accuracy_score(y_test, y_pred)\n",
    "precision = precision_score(y_test, y_pred, pos_label='Positive')\n",
    "recall = recall_score(y_test, y_pred, pos_label='Positive')\n",
    "f1 = f1_score(y_test, y_pred, pos_label='Positive')\n",
    "\n",
    "# Print summary\n",
    "print(\"\\n===== Logistic Regression Evaluation =====\")\n",
    "print(f\"Accuracy:  {accuracy:.4f}\")\n",
    "print(f\"Precision: {precision:.4f}\")\n",
    "print(f\"Recall:    {recall:.4f}\")\n",
    "print(f\"F1 Score:  {f1:.4f}\")"
   ]
  },
  {
   "cell_type": "code",
   "execution_count": null,
   "id": "95a7c10c",
   "metadata": {},
   "outputs": [
    {
     "data": {
      "image/png": "[encoded data removed]",
      "text/plain": [
       "<Figure size 600x500 with 2 Axes>"
      ]
     },
     "metadata": {},
     "output_type": "display_data"
    }
   ],
   "source": [
    "cm = confusion_matrix(y_test, y_pred, labels=['Positive', 'Negative'])\n",
    "plt.figure(figsize=(6,5))\n",
    "sns.heatmap(cm, annot=True, fmt='d', cmap='Blues',\n",
    "            xticklabels=['Positive','Negative'],\n",
    "            yticklabels=['Positive','Negative'])\n",
    "plt.title('Confusion Matrix - Logistic Regression')\n",
    "plt.xlabel('Predicted')\n",
    "plt.ylabel('Actual')\n",
    "plt.show()"
   ]
  },
  {
   "cell_type": "code",
   "execution_count": null,
   "id": "78a22115",
   "metadata": {},
   "outputs": [
    {
     "name": "stderr",
     "output_type": "stream",
     "text": [
      "C:\\Users\\HP\\AppData\\Local\\Temp\\ipykernel_30448\\3569855258.py:3: FutureWarning: \n",
      "\n",
      "Passing `palette` without assigning `hue` is deprecated and will be removed in v0.14.0. Assign the `x` variable to `hue` and set `legend=False` for the same effect.\n",
      "\n",
      "  sns.barplot(x=list(metrics.keys()), y=list(metrics.values()), palette='Blues_d')\n"
     ]
    },
    {
     "data": {
      "image/png": "[encoded data removed]",
      "text/plain": [
       "<Figure size 600x400 with 1 Axes>"
      ]
     },
     "metadata": {},
     "output_type": "display_data"
    }
   ],
   "source": [
    "metrics = {'Accuracy': accuracy, 'Precision': precision, 'Recall': recall, 'F1 Score': f1}\n",
    "plt.figure(figsize=(6,4))\n",
    "sns.barplot(x=list(metrics.keys()), y=list(metrics.values()), palette='Blues_d')\n",
    "plt.ylim(0,1)\n",
    "plt.title('Logistic Regression Performance Metrics')\n",
    "plt.ylabel('Score')\n",
    "plt.show()"
   ]
  },
  {
   "cell_type": "markdown",
   "id": "5f4402d8",
   "metadata": {},
   "source": [
    "Compared these predictions (y_pred) with the true labels (y_test) to measure how well the model performed.\n",
    "\n",
    "Acurracy -> Out of all tweets tested, ~91% were correctly classified as Positive or Negative.\n",
    "\n",
    "Percision -> When the model predicted Positive, it was correct 88% of the time.\n",
    "\n",
    "Recall -> Out of all the actual Positive tweets, the model successfully identified 93%.\n",
    "\n",
    "F1 Score -> The harmonic mean of Precision and Recall — indicates strong overall balance between identifying and        predicting correctly."
   ]
  }
 ],
 "metadata": {
  "kernelspec": {
   "display_name": "Python 3",
   "language": "python",
   "name": "python3"
  },
  "language_info": {
   "codemirror_mode": {
    "name": "ipython",
    "version": 3
   },
   "file_extension": ".py",
   "mimetype": "text/x-python",
   "name": "python",
   "nbconvert_exporter": "python",
   "pygments_lexer": "ipython3",
   "version": "3.13.3"
  }
 },
 "nbformat": 4,
 "nbformat_minor": 5
}
